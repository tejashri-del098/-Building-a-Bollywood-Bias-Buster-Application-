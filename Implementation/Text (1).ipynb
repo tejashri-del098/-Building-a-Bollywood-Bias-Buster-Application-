{
  "cells": [
    {
      "cell_type": "code",
      "execution_count": 5,
      "metadata": {
        "colab": {
          "base_uri": "https://localhost:8080/"
        },
        "id": "-KkWKgW5msjM",
        "outputId": "7963c996-f48b-4f44-8047-70c07b186f23"
      },
      "outputs": [
        {
          "output_type": "stream",
          "name": "stdout",
          "text": [
            "Cloning into 'Bollywood-Data'...\n",
            "remote: Enumerating objects: 1853, done.\u001b[K\n",
            "remote: Total 1853 (delta 0), reused 0 (delta 0), pack-reused 1853 (from 1)\u001b[K\n",
            "Receiving objects: 100% (1853/1853), 37.71 MiB | 21.50 MiB/s, done.\n",
            "Resolving deltas: 100% (21/21), done.\n"
          ]
        }
      ],
      "source": [
        "!git clone https://github.com/BollywoodData/Bollywood-Data"
      ]
    },
    {
      "cell_type": "markdown",
      "metadata": {
        "id": "EQifLH37mDj_"
      },
      "source": [
        "# Must Run Functions"
      ]
    },
    {
      "cell_type": "code",
      "execution_count": 1,
      "metadata": {
        "colab": {
          "base_uri": "https://localhost:8080/"
        },
        "id": "XdaeZF45mCh1",
        "outputId": "86d95123-fea7-45ab-acf5-62388f41212c"
      },
      "outputs": [
        {
          "output_type": "stream",
          "name": "stdout",
          "text": [
            "\u001b[38;5;2m✔ Download and installation successful\u001b[0m\n",
            "You can now load the package via spacy.load('en_core_web_sm')\n",
            "\u001b[38;5;3m⚠ Restart to reload dependencies\u001b[0m\n",
            "If you are in a Jupyter or Colab notebook, you may need to restart Python in\n",
            "order to load all the package's dependencies. You can do this by selecting the\n",
            "'Restart kernel' or 'Restart runtime' option.\n"
          ]
        }
      ],
      "source": [
        "import spacy.cli\n",
        "spacy.cli.download(\"en_core_web_sm\")"
      ]
    },
    {
      "cell_type": "code",
      "source": [
        "!pip install gender_guesser\n",
        "!pip install pymupdf"
      ],
      "metadata": {
        "colab": {
          "base_uri": "https://localhost:8080/"
        },
        "id": "ldabJgPCYq8Y",
        "outputId": "75a2b4cd-d209-40dd-b75b-a3a2e25c9944"
      },
      "execution_count": 2,
      "outputs": [
        {
          "output_type": "stream",
          "name": "stdout",
          "text": [
            "Requirement already satisfied: gender_guesser in /usr/local/lib/python3.11/dist-packages (0.4.0)\n",
            "Requirement already satisfied: pymupdf in /usr/local/lib/python3.11/dist-packages (1.26.3)\n"
          ]
        }
      ]
    },
    {
      "cell_type": "code",
      "execution_count": 3,
      "metadata": {
        "id": "ikkPbyxsmd30"
      },
      "outputs": [],
      "source": [
        "import os\n",
        "import pymupdf\n",
        "import re\n",
        "import spacy\n",
        "import pandas as pd\n",
        "from gender_guesser.detector import Detector\n",
        "\n",
        "nlp = spacy.load(\"en_core_web_sm\")\n",
        "gender_detector = Detector()"
      ]
    },
    {
      "cell_type": "code",
      "execution_count": 41,
      "metadata": {
        "id": "1VCTOR_ioRda"
      },
      "outputs": [],
      "source": [
        "import re\n",
        "\n",
        "def extract_intro_lines(text):\n",
        "    lines = re.split(r'\\n(?=[A-Z][a-z]+:|\\s*[A-Z]+\\s*$)', text)\n",
        "\n",
        "    clean_lines = []\n",
        "    for line in lines:\n",
        "        line = line.strip()\n",
        "        if not line.isupper() and not re.match(r'^[A-Z]+:$', line) and line:\n",
        "             clean_lines.append(line)\n",
        "\n",
        "    if len(clean_lines) < 10:\n",
        "        print(\"Warning: Few lines extracted using script format. Falling back to sentence splitting.\")\n",
        "        doc = nlp(text)\n",
        "        clean_lines = [sent.text.strip() for sent in doc.sents if sent.text.strip() and not sent.text.strip().isupper()]\n",
        "\n",
        "\n",
        "    print(f\"Extracted {len(clean_lines)} lines for analysis.\")\n",
        "    return clean_lines"
      ]
    },
    {
      "cell_type": "code",
      "execution_count": 49,
      "metadata": {
        "id": "8teJfD-OoTtw"
      },
      "outputs": [],
      "source": [
        "def detect_character_and_gender(line):\n",
        "\n",
        "    doc = nlp(line)\n",
        "    for ent in doc.ents:\n",
        "\n",
        "        if ent.label_ == \"PERSON\":\n",
        "            name = ent.text\n",
        "\n",
        "            gender = gender_detector.get_gender(name.split()[0])\n",
        "\n",
        "            return name, gender\n",
        "\n",
        "    return None, None"
      ]
    },
    {
      "cell_type": "markdown",
      "source": [
        "## Model Loading and Tokenizing"
      ],
      "metadata": {
        "id": "EXwxks-YZyFG"
      }
    },
    {
      "cell_type": "code",
      "source": [
        "from transformers import AutoTokenizer, AutoModelForCausalLM\n",
        "import torch\n",
        "\n",
        "model_name = \"mistralai/Mistral-7B-Instruct-v0.1\"\n",
        "\n",
        "\n",
        "tokenizer = AutoTokenizer.from_pretrained(model_name)\n",
        "model = AutoModelForCausalLM.from_pretrained(\n",
        "    model_name,\n",
        "    torch_dtype=torch.float16,\n",
        "    device_map=\"auto\"\n",
        ")\n",
        "\n",
        "print(\"✅ Model loaded on:\", next(model.parameters()).device)\n"
      ],
      "metadata": {
        "colab": {
          "base_uri": "https://localhost:8080/",
          "height": 84,
          "referenced_widgets": [
            "a587d858996a4f949102dab35dfee7fb",
            "1a1ee6a0e78d4748b6f1ec9effc6d901",
            "ae208aa61fa046a3921d04681660f234",
            "298bb12d3d9d48b4a9dc5c013ea4d425",
            "53b0a3b33c6645e6afbdfe9d36035b8b",
            "6b0c6125017a4e82afaa50f0a301eac1",
            "fe090be0b4a44bc59ac77c9c04bbfc0a",
            "599eddc69dd74bd8a65ace2b78db54fb",
            "71bfe5b526194cdbbeb963db0bc14248",
            "5aee06e7600b46b8a995e24d62439e7b",
            "cb46c2f0cf6a41e49e52130781aa430c"
          ]
        },
        "id": "VvfK450wZ0ku",
        "outputId": "ac4a3eba-1d26-45e8-e409-22f185f7fcf0"
      },
      "execution_count": 8,
      "outputs": [
        {
          "output_type": "display_data",
          "data": {
            "text/plain": [
              "Loading checkpoint shards:   0%|          | 0/2 [00:00<?, ?it/s]"
            ],
            "application/vnd.jupyter.widget-view+json": {
              "version_major": 2,
              "version_minor": 0,
              "model_id": "a587d858996a4f949102dab35dfee7fb"
            }
          },
          "metadata": {}
        },
        {
          "output_type": "stream",
          "name": "stderr",
          "text": [
            "WARNING:accelerate.big_modeling:Some parameters are on the meta device because they were offloaded to the cpu.\n"
          ]
        },
        {
          "output_type": "stream",
          "name": "stdout",
          "text": [
            "✅ Model loaded on: cuda:0\n"
          ]
        }
      ]
    },
    {
      "cell_type": "code",
      "source": [
        "import pandas as pd\n",
        "from tqdm import tqdm\n",
        "import re\n",
        "import time\n",
        "\n",
        "\n",
        "def classify_stereotype_with_mistral_v5_silent(line):\n",
        "   prompt = f\"\"\"\n",
        "   You are a language model trained to detect gender stereotypes in lines from movie scripts.\n",
        "   Your task is to classify each line into exactly one of the following 14 categories, based on the presence of stereotypical portrayals—especially of women.\n",
        "   Assign only **one** label per line. Be careful to read subtle biases. Return only the **label** (not the line, not any explanation).\n",
        "   Here are the 14 valid categories:\n",
        "    1. occupation_gap → The character lacks a job, career mention, or professional identity.\n",
        "      - Ex: \"She stayed home while the others went to work.\"\n",
        "\n",
        "    2. agency_gap → The character lacks independence or decision-making ability; is passive or submissive.\n",
        "      - Ex: \"She looked at him, waiting for his decision.\"\n",
        "\n",
        "    3. appearance_focus → Emphasis on physical appearance, |beauty, clothing, or body—but not sexual objectification.\n",
        "      - Ex: \"She walked in wearing a tight red dress that hugged every curve.\"\n",
        "\n",
        "    4. relationship_only → Introduced only as a relation to another (wife, daughter, etc.).\n",
        "      - Ex: \"That's John's wife, the one sitting by the window.\"\n",
        "\n",
        "    5. screen_time_disparity→ Line shows that women have very limited screen/dialog presence.\n",
        "      - Ex: \"The male characters dominated every major scene, while she had only two lines.\"\n",
        "\n",
        "    6. dialogue_initiation_gap → The woman doesn't start conversations or only speaks when spoken to.\n",
        "      - Ex: \"She rarely spoke unless someone asked her a question first.\"\n",
        "\n",
        "    7. emotional_typecast → The woman is only shown as overly emotional, irrational, or tearful.\n",
        "      - Ex: \"She burst into tears again, as usual.\"\n",
        "\n",
        "    8. domesticity_emphasis → Emphasis on domestic roles (cooking, cleaning, homemaking).\n",
        "      - Ex: \"She was happiest baking cookies in her cozy kitchen.\"\n",
        "\n",
        "    9. objectification → The body is sexualized visually or narratively. Often includes gaze, zoom-ins, or body parts.\n",
        "      - Ex: \"The camera panned slowly from her legs to her chest.\"\n",
        "\n",
        "    10. victim_only → The woman appears only to suffer harm or be rescued, with no further agency.\n",
        "      - Ex: \"She screamed for help as the villain grabbed her.\"\n",
        "\n",
        "    11. intelligence_undermined → The woman is portrayed as dumb, ditzy, or confused—especially in academic/intellectual areas.\n",
        "      - Ex: \"She looked confused by the math problem and giggled nervously.\"\n",
        "\n",
        "    12. support_role_only → Exists only to encourage, cheer for, or help a man without her own arc.\n",
        "      - Ex: \"She cheered him on from the sidelines as he accepted his award.\"\n",
        "\n",
        "    13. villainization → Woman is unfairly portrayed as evil, manipulative, or cruel (e.g. stepmother, seductress).\n",
        "      - Ex: \"The evil stepmother glared with contempt and plotted her revenge.\"\n",
        "\n",
        "    14. none → The line is empowering or neutral. No stereotype or bias.\n",
        "      - Ex: \"She led the mission with confidence and precision.\"\n",
        "\n",
        "    ---\n",
        "\n",
        "    Read the line carefully. Choose the **most accurate single category** from the above list.\n",
        "    If the line contains no bias, use `none`.\n",
        "\n",
        "    Line: \"{line}\"\n",
        "    Label:\"\"\"\n",
        "   inputs = tokenizer(prompt, return_tensors=\"pt\").to(model.device)\n",
        "   outputs = model.generate(\n",
        "       **inputs,\n",
        "       max_new_tokens=10,\n",
        "       pad_token_id=tokenizer.eos_token_id,\n",
        "   )\n",
        "   decoded = tokenizer.decode(outputs[0], skip_special_tokens=True).strip()\n",
        "   label_matches = re.findall(r\"Label:\\s*(\\w+)\", decoded)\n",
        "   valid_labels = {\n",
        "     \"occupation_gap\",\n",
        "     \"agency_gap\",\n",
        "     \"appearance_focus\",\n",
        "     \"relationship_only\",\n",
        "     \"screen_time_disparity\",\n",
        "     \"dialogue_initiation_gap\",\n",
        "     \"emotional_typecast\",\n",
        "     \"domesticity_emphasis\",\n",
        "     \"objectification\",\n",
        "     \"victim_only\",\n",
        "     \"intelligence_undermined\",\n",
        "     \"support_role_only\",\n",
        "     \"villainization\",\n",
        "     \"none\"\n",
        "   }\n",
        "   label = next((lbl.lower() for lbl in reversed(label_matches) if lbl.lower() in valid_labels), \"none\")\n",
        "   return label"
      ],
      "metadata": {
        "id": "JP97YtnEa6Vn"
      },
      "execution_count": 31,
      "outputs": []
    },
    {
      "cell_type": "code",
      "source": [
        "test_sentences = {\n",
        "    \"occupation_gap\": \"She stayed home while the others went to work.\",\n",
        "    \"agency_gap\": \"She looked at him, waiting for his decision.\",\n",
        "    \"appearance_focus\": \"She walked in wearing a tight red dress that hugged every curve.\",\n",
        "    \"relationship_only\": \"That's John's wife, the one sitting by the window.\",\n",
        "    \"screen_time_disparity\": \"The male characters dominated every major scene, while she had only two lines.\",\n",
        "    \"dialogue_initiation_gap\": \"She rarely spoke unless someone asked her a question first.\",\n",
        "    \"emotional_typecast\": \"She burst into tears again, as usual.\",\n",
        "    \"domesticity_emphasis\": \"She was happiest baking cookies in her cozy kitchen.\",\n",
        "    \"objectification\": \"The camera panned slowly from her legs to her chest.\",\n",
        "    \"victim_only\": \"She screamed for help as the villain grabbed her.\",\n",
        "    \"intelligence_undermined\": \"She looked confused by the math problem and giggled nervously.\",\n",
        "    \"support_role_only\": \"She cheered him on from the sidelines as he accepted his award.\",\n",
        "    \"villainization\": \"The evil stepmother glared with contempt and plotted her revenge.\",\n",
        "    \"none\": \"She led the mission with confidence and precision.\"\n",
        "}\n",
        "\n",
        "for expected, sentence in test_sentences.items():\n",
        "    predicted = classify_stereotype_with_mistral_v5_silent(sentence)\n",
        "    print(f\"Expected: {expected} | Predicted: {predicted} | Line: {sentence}\")"
      ],
      "metadata": {
        "colab": {
          "base_uri": "https://localhost:8080/"
        },
        "id": "tPlUJNVcbEht",
        "outputId": "9a1f7674-922a-4d74-e5e5-a95885816132"
      },
      "execution_count": 32,
      "outputs": [
        {
          "output_type": "stream",
          "name": "stdout",
          "text": [
            "Expected: occupation_gap | Predicted: occupation_gap | Line: She stayed home while the others went to work.\n",
            "Expected: agency_gap | Predicted: agency_gap | Line: She looked at him, waiting for his decision.\n",
            "Expected: appearance_focus | Predicted: appearance_focus | Line: She walked in wearing a tight red dress that hugged every curve.\n",
            "Expected: relationship_only | Predicted: relationship_only | Line: That's John's wife, the one sitting by the window.\n",
            "Expected: screen_time_disparity | Predicted: screen_time_disparity | Line: The male characters dominated every major scene, while she had only two lines.\n",
            "Expected: dialogue_initiation_gap | Predicted: dialogue_initiation_gap | Line: She rarely spoke unless someone asked her a question first.\n",
            "Expected: emotional_typecast | Predicted: emotional_typecast | Line: She burst into tears again, as usual.\n",
            "Expected: domesticity_emphasis | Predicted: domesticity_emphasis | Line: She was happiest baking cookies in her cozy kitchen.\n",
            "Expected: objectification | Predicted: objectification | Line: The camera panned slowly from her legs to her chest.\n",
            "Expected: victim_only | Predicted: victim_only | Line: She screamed for help as the villain grabbed her.\n",
            "Expected: intelligence_undermined | Predicted: intelligence_undermined | Line: She looked confused by the math problem and giggled nervously.\n",
            "Expected: support_role_only | Predicted: support_role_only | Line: She cheered him on from the sidelines as he accepted his award.\n",
            "Expected: villainization | Predicted: villainization | Line: The evil stepmother glared with contempt and plotted her revenge.\n",
            "Expected: none | Predicted: none | Line: She led the mission with confidence and precision.\n"
          ]
        }
      ]
    },
    {
      "cell_type": "markdown",
      "source": [
        "# Working With Bollywood Bolly\n"
      ],
      "metadata": {
        "id": "JkZSMPW0WUBX"
      }
    },
    {
      "cell_type": "code",
      "execution_count": 4,
      "metadata": {
        "colab": {
          "base_uri": "https://localhost:8080/"
        },
        "id": "F6hFaaf-mo2T",
        "outputId": "bc55632b-d3f5-4291-a954-2b535b80adee"
      },
      "outputs": [
        {
          "output_type": "stream",
          "name": "stdout",
          "text": [
            "✅ Loaded 13 scripts.\n"
          ]
        }
      ],
      "source": [
        "def extract_script_text(pdf_path):\n",
        "    with pymupdf.Document(pdf_path) as doc:\n",
        "        return \"\\n\".join([page.get_text() for page in doc])\n",
        "\n",
        "def load_scripts_from_folder(folder_path):\n",
        "    scripts = {}\n",
        "    for filename in os.listdir(folder_path):\n",
        "        if filename.endswith(\".pdf\"):\n",
        "            title = filename.replace('.pdf', '')\n",
        "            text = extract_script_text(os.path.join(folder_path, filename))\n",
        "            scripts[title] = text\n",
        "    return scripts\n",
        "\n",
        "scripts = load_scripts_from_folder(\"/content/Bollywood-Data/scripts-data\")\n",
        "print(f\"✅ Loaded {len(scripts)} scripts.\")"
      ]
    },
    {
      "cell_type": "code",
      "execution_count": 30,
      "metadata": {
        "colab": {
          "base_uri": "https://localhost:8080/",
          "height": 223
        },
        "id": "X-dGUxMeoXze",
        "outputId": "3037e2ad-ba6a-4011-b0d7-670243cbd7ca"
      },
      "outputs": [
        {
          "output_type": "stream",
          "name": "stdout",
          "text": [
            "✅ Saved cleaned data to cleaned_script_data_plots.csv\n"
          ]
        },
        {
          "output_type": "execute_result",
          "data": {
            "text/plain": [
              "    script      character  gender  \\\n",
              "0  Maqbool           Nata  female   \n",
              "1  Maqbool           Nata  female   \n",
              "2  Maqbool           Nata  female   \n",
              "3  Maqbool           Asif    male   \n",
              "4  Maqbool  Jahangir Khan    male   \n",
              "\n",
              "                                                line  \n",
              "0                                              Nata…  \n",
              "1                             What happened to Nata?  \n",
              "2                                       Sir… Nata… ?  \n",
              "3  That’s Abba ji’s brother-in-law’s turf. That A...  \n",
              "4  Jahangir Khan… he was Lalji Bhai’s right hand....  "
            ],
            "text/html": [
              "\n",
              "  <div id=\"df-c8563263-d941-4de5-a554-594eebb101d6\" class=\"colab-df-container\">\n",
              "    <div>\n",
              "<style scoped>\n",
              "    .dataframe tbody tr th:only-of-type {\n",
              "        vertical-align: middle;\n",
              "    }\n",
              "\n",
              "    .dataframe tbody tr th {\n",
              "        vertical-align: top;\n",
              "    }\n",
              "\n",
              "    .dataframe thead th {\n",
              "        text-align: right;\n",
              "    }\n",
              "</style>\n",
              "<table border=\"1\" class=\"dataframe\">\n",
              "  <thead>\n",
              "    <tr style=\"text-align: right;\">\n",
              "      <th></th>\n",
              "      <th>script</th>\n",
              "      <th>character</th>\n",
              "      <th>gender</th>\n",
              "      <th>line</th>\n",
              "    </tr>\n",
              "  </thead>\n",
              "  <tbody>\n",
              "    <tr>\n",
              "      <th>0</th>\n",
              "      <td>Maqbool</td>\n",
              "      <td>Nata</td>\n",
              "      <td>female</td>\n",
              "      <td>Nata…</td>\n",
              "    </tr>\n",
              "    <tr>\n",
              "      <th>1</th>\n",
              "      <td>Maqbool</td>\n",
              "      <td>Nata</td>\n",
              "      <td>female</td>\n",
              "      <td>What happened to Nata?</td>\n",
              "    </tr>\n",
              "    <tr>\n",
              "      <th>2</th>\n",
              "      <td>Maqbool</td>\n",
              "      <td>Nata</td>\n",
              "      <td>female</td>\n",
              "      <td>Sir… Nata… ?</td>\n",
              "    </tr>\n",
              "    <tr>\n",
              "      <th>3</th>\n",
              "      <td>Maqbool</td>\n",
              "      <td>Asif</td>\n",
              "      <td>male</td>\n",
              "      <td>That’s Abba ji’s brother-in-law’s turf. That A...</td>\n",
              "    </tr>\n",
              "    <tr>\n",
              "      <th>4</th>\n",
              "      <td>Maqbool</td>\n",
              "      <td>Jahangir Khan</td>\n",
              "      <td>male</td>\n",
              "      <td>Jahangir Khan… he was Lalji Bhai’s right hand....</td>\n",
              "    </tr>\n",
              "  </tbody>\n",
              "</table>\n",
              "</div>\n",
              "    <div class=\"colab-df-buttons\">\n",
              "\n",
              "  <div class=\"colab-df-container\">\n",
              "    <button class=\"colab-df-convert\" onclick=\"convertToInteractive('df-c8563263-d941-4de5-a554-594eebb101d6')\"\n",
              "            title=\"Convert this dataframe to an interactive table.\"\n",
              "            style=\"display:none;\">\n",
              "\n",
              "  <svg xmlns=\"http://www.w3.org/2000/svg\" height=\"24px\" viewBox=\"0 -960 960 960\">\n",
              "    <path d=\"M120-120v-720h720v720H120Zm60-500h600v-160H180v160Zm220 220h160v-160H400v160Zm0 220h160v-160H400v160ZM180-400h160v-160H180v160Zm440 0h160v-160H620v160ZM180-180h160v-160H180v160Zm440 0h160v-160H620v160Z\"/>\n",
              "  </svg>\n",
              "    </button>\n",
              "\n",
              "  <style>\n",
              "    .colab-df-container {\n",
              "      display:flex;\n",
              "      gap: 12px;\n",
              "    }\n",
              "\n",
              "    .colab-df-convert {\n",
              "      background-color: #E8F0FE;\n",
              "      border: none;\n",
              "      border-radius: 50%;\n",
              "      cursor: pointer;\n",
              "      display: none;\n",
              "      fill: #1967D2;\n",
              "      height: 32px;\n",
              "      padding: 0 0 0 0;\n",
              "      width: 32px;\n",
              "    }\n",
              "\n",
              "    .colab-df-convert:hover {\n",
              "      background-color: #E2EBFA;\n",
              "      box-shadow: 0px 1px 2px rgba(60, 64, 67, 0.3), 0px 1px 3px 1px rgba(60, 64, 67, 0.15);\n",
              "      fill: #174EA6;\n",
              "    }\n",
              "\n",
              "    .colab-df-buttons div {\n",
              "      margin-bottom: 4px;\n",
              "    }\n",
              "\n",
              "    [theme=dark] .colab-df-convert {\n",
              "      background-color: #3B4455;\n",
              "      fill: #D2E3FC;\n",
              "    }\n",
              "\n",
              "    [theme=dark] .colab-df-convert:hover {\n",
              "      background-color: #434B5C;\n",
              "      box-shadow: 0px 1px 3px 1px rgba(0, 0, 0, 0.15);\n",
              "      filter: drop-shadow(0px 1px 2px rgba(0, 0, 0, 0.3));\n",
              "      fill: #FFFFFF;\n",
              "    }\n",
              "  </style>\n",
              "\n",
              "    <script>\n",
              "      const buttonEl =\n",
              "        document.querySelector('#df-c8563263-d941-4de5-a554-594eebb101d6 button.colab-df-convert');\n",
              "      buttonEl.style.display =\n",
              "        google.colab.kernel.accessAllowed ? 'block' : 'none';\n",
              "\n",
              "      async function convertToInteractive(key) {\n",
              "        const element = document.querySelector('#df-c8563263-d941-4de5-a554-594eebb101d6');\n",
              "        const dataTable =\n",
              "          await google.colab.kernel.invokeFunction('convertToInteractive',\n",
              "                                                    [key], {});\n",
              "        if (!dataTable) return;\n",
              "\n",
              "        const docLinkHtml = 'Like what you see? Visit the ' +\n",
              "          '<a target=\"_blank\" href=https://colab.research.google.com/notebooks/data_table.ipynb>data table notebook</a>'\n",
              "          + ' to learn more about interactive tables.';\n",
              "        element.innerHTML = '';\n",
              "        dataTable['output_type'] = 'display_data';\n",
              "        await google.colab.output.renderOutput(dataTable, element);\n",
              "        const docLink = document.createElement('div');\n",
              "        docLink.innerHTML = docLinkHtml;\n",
              "        element.appendChild(docLink);\n",
              "      }\n",
              "    </script>\n",
              "  </div>\n",
              "\n",
              "\n",
              "    <div id=\"df-e29246c1-7582-4a13-99ee-872aeae6f7d5\">\n",
              "      <button class=\"colab-df-quickchart\" onclick=\"quickchart('df-e29246c1-7582-4a13-99ee-872aeae6f7d5')\"\n",
              "                title=\"Suggest charts\"\n",
              "                style=\"display:none;\">\n",
              "\n",
              "<svg xmlns=\"http://www.w3.org/2000/svg\" height=\"24px\"viewBox=\"0 0 24 24\"\n",
              "     width=\"24px\">\n",
              "    <g>\n",
              "        <path d=\"M19 3H5c-1.1 0-2 .9-2 2v14c0 1.1.9 2 2 2h14c1.1 0 2-.9 2-2V5c0-1.1-.9-2-2-2zM9 17H7v-7h2v7zm4 0h-2V7h2v10zm4 0h-2v-4h2v4z\"/>\n",
              "    </g>\n",
              "</svg>\n",
              "      </button>\n",
              "\n",
              "<style>\n",
              "  .colab-df-quickchart {\n",
              "      --bg-color: #E8F0FE;\n",
              "      --fill-color: #1967D2;\n",
              "      --hover-bg-color: #E2EBFA;\n",
              "      --hover-fill-color: #174EA6;\n",
              "      --disabled-fill-color: #AAA;\n",
              "      --disabled-bg-color: #DDD;\n",
              "  }\n",
              "\n",
              "  [theme=dark] .colab-df-quickchart {\n",
              "      --bg-color: #3B4455;\n",
              "      --fill-color: #D2E3FC;\n",
              "      --hover-bg-color: #434B5C;\n",
              "      --hover-fill-color: #FFFFFF;\n",
              "      --disabled-bg-color: #3B4455;\n",
              "      --disabled-fill-color: #666;\n",
              "  }\n",
              "\n",
              "  .colab-df-quickchart {\n",
              "    background-color: var(--bg-color);\n",
              "    border: none;\n",
              "    border-radius: 50%;\n",
              "    cursor: pointer;\n",
              "    display: none;\n",
              "    fill: var(--fill-color);\n",
              "    height: 32px;\n",
              "    padding: 0;\n",
              "    width: 32px;\n",
              "  }\n",
              "\n",
              "  .colab-df-quickchart:hover {\n",
              "    background-color: var(--hover-bg-color);\n",
              "    box-shadow: 0 1px 2px rgba(60, 64, 67, 0.3), 0 1px 3px 1px rgba(60, 64, 67, 0.15);\n",
              "    fill: var(--button-hover-fill-color);\n",
              "  }\n",
              "\n",
              "  .colab-df-quickchart-complete:disabled,\n",
              "  .colab-df-quickchart-complete:disabled:hover {\n",
              "    background-color: var(--disabled-bg-color);\n",
              "    fill: var(--disabled-fill-color);\n",
              "    box-shadow: none;\n",
              "  }\n",
              "\n",
              "  .colab-df-spinner {\n",
              "    border: 2px solid var(--fill-color);\n",
              "    border-color: transparent;\n",
              "    border-bottom-color: var(--fill-color);\n",
              "    animation:\n",
              "      spin 1s steps(1) infinite;\n",
              "  }\n",
              "\n",
              "  @keyframes spin {\n",
              "    0% {\n",
              "      border-color: transparent;\n",
              "      border-bottom-color: var(--fill-color);\n",
              "      border-left-color: var(--fill-color);\n",
              "    }\n",
              "    20% {\n",
              "      border-color: transparent;\n",
              "      border-left-color: var(--fill-color);\n",
              "      border-top-color: var(--fill-color);\n",
              "    }\n",
              "    30% {\n",
              "      border-color: transparent;\n",
              "      border-left-color: var(--fill-color);\n",
              "      border-top-color: var(--fill-color);\n",
              "      border-right-color: var(--fill-color);\n",
              "    }\n",
              "    40% {\n",
              "      border-color: transparent;\n",
              "      border-right-color: var(--fill-color);\n",
              "      border-top-color: var(--fill-color);\n",
              "    }\n",
              "    60% {\n",
              "      border-color: transparent;\n",
              "      border-right-color: var(--fill-color);\n",
              "    }\n",
              "    80% {\n",
              "      border-color: transparent;\n",
              "      border-right-color: var(--fill-color);\n",
              "      border-bottom-color: var(--fill-color);\n",
              "    }\n",
              "    90% {\n",
              "      border-color: transparent;\n",
              "      border-bottom-color: var(--fill-color);\n",
              "    }\n",
              "  }\n",
              "</style>\n",
              "\n",
              "      <script>\n",
              "        async function quickchart(key) {\n",
              "          const quickchartButtonEl =\n",
              "            document.querySelector('#' + key + ' button');\n",
              "          quickchartButtonEl.disabled = true;  // To prevent multiple clicks.\n",
              "          quickchartButtonEl.classList.add('colab-df-spinner');\n",
              "          try {\n",
              "            const charts = await google.colab.kernel.invokeFunction(\n",
              "                'suggestCharts', [key], {});\n",
              "          } catch (error) {\n",
              "            console.error('Error during call to suggestCharts:', error);\n",
              "          }\n",
              "          quickchartButtonEl.classList.remove('colab-df-spinner');\n",
              "          quickchartButtonEl.classList.add('colab-df-quickchart-complete');\n",
              "        }\n",
              "        (() => {\n",
              "          let quickchartButtonEl =\n",
              "            document.querySelector('#df-e29246c1-7582-4a13-99ee-872aeae6f7d5 button');\n",
              "          quickchartButtonEl.style.display =\n",
              "            google.colab.kernel.accessAllowed ? 'block' : 'none';\n",
              "        })();\n",
              "      </script>\n",
              "    </div>\n",
              "\n",
              "    </div>\n",
              "  </div>\n"
            ],
            "application/vnd.google.colaboratory.intrinsic+json": {
              "type": "dataframe",
              "variable_name": "df_cleaned",
              "summary": "{\n  \"name\": \"df_cleaned\",\n  \"rows\": 3490,\n  \"fields\": [\n    {\n      \"column\": \"script\",\n      \"properties\": {\n        \"dtype\": \"category\",\n        \"num_unique_values\": 13,\n        \"samples\": [\n          \"Nil Battey Sannata\",\n          \"Queen\",\n          \"Maqbool\"\n        ],\n        \"semantic_type\": \"\",\n        \"description\": \"\"\n      }\n    },\n    {\n      \"column\": \"character\",\n      \"properties\": {\n        \"dtype\": \"category\",\n        \"num_unique_values\": 344,\n        \"samples\": [\n          \"Ganga ji ko\",\n          \"Bina\",\n          \"Nidhi\"\n        ],\n        \"semantic_type\": \"\",\n        \"description\": \"\"\n      }\n    },\n    {\n      \"column\": \"gender\",\n      \"properties\": {\n        \"dtype\": \"category\",\n        \"num_unique_values\": 2,\n        \"samples\": [\n          \"male\",\n          \"female\"\n        ],\n        \"semantic_type\": \"\",\n        \"description\": \"\"\n      }\n    },\n    {\n      \"column\": \"line\",\n      \"properties\": {\n        \"dtype\": \"string\",\n        \"num_unique_values\": 2849,\n        \"samples\": [\n          \"Devi is sitting in a lecture. Taking notes diligently.\",\n          \"preserve. Small assembly of churners, conveyors, many cans. Veera supervising the\"\n        ],\n        \"semantic_type\": \"\",\n        \"description\": \"\"\n      }\n    }\n  ]\n}"
            }
          },
          "metadata": {},
          "execution_count": 30
        }
      ],
      "source": [
        "clean_data = []\n",
        "\n",
        "for title, text in scripts.items():\n",
        "    lines = extract_intro_lines(text)\n",
        "    for line in lines:\n",
        "        character, gender = detect_character_and_gender(line)\n",
        "        if character and gender in ['male', 'female']:\n",
        "            clean_data.append({\n",
        "                \"script\": title,\n",
        "                \"character\": character,\n",
        "                \"gender\": gender,\n",
        "                \"line\": line.strip()\n",
        "            })\n",
        "\n",
        "df_cleaned = pd.DataFrame(clean_data)\n",
        "df_cleaned.to_csv(\"cleaned_script_data_plots.csv\", index=False)\n",
        "print(\"✅ Saved cleaned data to cleaned_script_data_plots.csv\")\n",
        "df_cleaned.head()"
      ]
    },
    {
      "cell_type": "code",
      "source": [
        "\n",
        "df = pd.read_csv(\"cleaned_script_data_plots.csv\")\n",
        "chunk_size = 250\n",
        "\n",
        "for start in range(0, len(df), chunk_size):\n",
        "    end = min(start + chunk_size, len(df))\n",
        "    chunk = df.iloc[start:end].copy()\n",
        "\n",
        "    print(f\"🧠 Processing lines {start} to {end}\")\n",
        "    tqdm.pandas()\n",
        "    chunk[\"stereotype_type\"] = chunk[\"line\"].progress_apply(classify_stereotype_with_mistral_v5_silent)\n",
        "\n",
        "    chunk.to_csv(f\"chunk_{start}_{end}.csv\", index=False)\n",
        "    print(f\"✅ Saved: chunk_{start}_{end}.csv\")\n",
        "\n",
        "    torch.cuda.empty_cache()\n",
        "    time.sleep(2)"
      ],
      "metadata": {
        "colab": {
          "base_uri": "https://localhost:8080/",
          "height": 460
        },
        "id": "_YAnRB8nblSh",
        "outputId": "878f9d06-03e9-4f7b-c3d8-17092e20c2fa"
      },
      "execution_count": 11,
      "outputs": [
        {
          "output_type": "stream",
          "name": "stdout",
          "text": [
            "🧠 Processing lines 0 to 250\n"
          ]
        },
        {
          "output_type": "stream",
          "name": "stderr",
          "text": [
            "  4%|▍         | 10/250 [00:19<07:46,  1.94s/it]\n"
          ]
        },
        {
          "output_type": "error",
          "ename": "KeyboardInterrupt",
          "evalue": "",
          "traceback": [
            "\u001b[0;31m---------------------------------------------------------------------------\u001b[0m",
            "\u001b[0;31mKeyboardInterrupt\u001b[0m                         Traceback (most recent call last)",
            "\u001b[0;32m/tmp/ipython-input-11-1999571658.py\u001b[0m in \u001b[0;36m<cell line: 0>\u001b[0;34m()\u001b[0m\n\u001b[1;32m      9\u001b[0m     \u001b[0mprint\u001b[0m\u001b[0;34m(\u001b[0m\u001b[0;34mf\"🧠 Processing lines {start} to {end}\"\u001b[0m\u001b[0;34m)\u001b[0m\u001b[0;34m\u001b[0m\u001b[0;34m\u001b[0m\u001b[0m\n\u001b[1;32m     10\u001b[0m     \u001b[0mtqdm\u001b[0m\u001b[0;34m.\u001b[0m\u001b[0mpandas\u001b[0m\u001b[0;34m(\u001b[0m\u001b[0;34m)\u001b[0m\u001b[0;34m\u001b[0m\u001b[0;34m\u001b[0m\u001b[0m\n\u001b[0;32m---> 11\u001b[0;31m     \u001b[0mchunk\u001b[0m\u001b[0;34m[\u001b[0m\u001b[0;34m\"stereotype_type\"\u001b[0m\u001b[0;34m]\u001b[0m \u001b[0;34m=\u001b[0m \u001b[0mchunk\u001b[0m\u001b[0;34m[\u001b[0m\u001b[0;34m\"line\"\u001b[0m\u001b[0;34m]\u001b[0m\u001b[0;34m.\u001b[0m\u001b[0mprogress_apply\u001b[0m\u001b[0;34m(\u001b[0m\u001b[0mclassify_stereotype_with_mistral_v5_silent\u001b[0m\u001b[0;34m)\u001b[0m\u001b[0;34m\u001b[0m\u001b[0;34m\u001b[0m\u001b[0m\n\u001b[0m\u001b[1;32m     12\u001b[0m \u001b[0;34m\u001b[0m\u001b[0m\n\u001b[1;32m     13\u001b[0m     \u001b[0mchunk\u001b[0m\u001b[0;34m.\u001b[0m\u001b[0mto_csv\u001b[0m\u001b[0;34m(\u001b[0m\u001b[0;34mf\"chunk_{start}_{end}.csv\"\u001b[0m\u001b[0;34m,\u001b[0m \u001b[0mindex\u001b[0m\u001b[0;34m=\u001b[0m\u001b[0;32mFalse\u001b[0m\u001b[0;34m)\u001b[0m\u001b[0;34m\u001b[0m\u001b[0;34m\u001b[0m\u001b[0m\n",
            "\u001b[0;32m/usr/local/lib/python3.11/dist-packages/tqdm/std.py\u001b[0m in \u001b[0;36minner\u001b[0;34m(df, func, *args, **kwargs)\u001b[0m\n\u001b[1;32m    915\u001b[0m                 \u001b[0;31m# on the df using our wrapper (which provides bar updating)\u001b[0m\u001b[0;34m\u001b[0m\u001b[0;34m\u001b[0m\u001b[0m\n\u001b[1;32m    916\u001b[0m                 \u001b[0;32mtry\u001b[0m\u001b[0;34m:\u001b[0m\u001b[0;34m\u001b[0m\u001b[0;34m\u001b[0m\u001b[0m\n\u001b[0;32m--> 917\u001b[0;31m                     \u001b[0;32mreturn\u001b[0m \u001b[0mgetattr\u001b[0m\u001b[0;34m(\u001b[0m\u001b[0mdf\u001b[0m\u001b[0;34m,\u001b[0m \u001b[0mdf_function\u001b[0m\u001b[0;34m)\u001b[0m\u001b[0;34m(\u001b[0m\u001b[0mwrapper\u001b[0m\u001b[0;34m,\u001b[0m \u001b[0;34m**\u001b[0m\u001b[0mkwargs\u001b[0m\u001b[0;34m)\u001b[0m\u001b[0;34m\u001b[0m\u001b[0;34m\u001b[0m\u001b[0m\n\u001b[0m\u001b[1;32m    918\u001b[0m                 \u001b[0;32mfinally\u001b[0m\u001b[0;34m:\u001b[0m\u001b[0;34m\u001b[0m\u001b[0;34m\u001b[0m\u001b[0m\n\u001b[1;32m    919\u001b[0m                     \u001b[0mt\u001b[0m\u001b[0;34m.\u001b[0m\u001b[0mclose\u001b[0m\u001b[0;34m(\u001b[0m\u001b[0;34m)\u001b[0m\u001b[0;34m\u001b[0m\u001b[0;34m\u001b[0m\u001b[0m\n",
            "\u001b[0;32m/usr/local/lib/python3.11/dist-packages/pandas/core/series.py\u001b[0m in \u001b[0;36mapply\u001b[0;34m(self, func, convert_dtype, args, by_row, **kwargs)\u001b[0m\n\u001b[1;32m   4922\u001b[0m             \u001b[0margs\u001b[0m\u001b[0;34m=\u001b[0m\u001b[0margs\u001b[0m\u001b[0;34m,\u001b[0m\u001b[0;34m\u001b[0m\u001b[0;34m\u001b[0m\u001b[0m\n\u001b[1;32m   4923\u001b[0m             \u001b[0mkwargs\u001b[0m\u001b[0;34m=\u001b[0m\u001b[0mkwargs\u001b[0m\u001b[0;34m,\u001b[0m\u001b[0;34m\u001b[0m\u001b[0;34m\u001b[0m\u001b[0m\n\u001b[0;32m-> 4924\u001b[0;31m         ).apply()\n\u001b[0m\u001b[1;32m   4925\u001b[0m \u001b[0;34m\u001b[0m\u001b[0m\n\u001b[1;32m   4926\u001b[0m     def _reindex_indexer(\n",
            "\u001b[0;32m/usr/local/lib/python3.11/dist-packages/pandas/core/apply.py\u001b[0m in \u001b[0;36mapply\u001b[0;34m(self)\u001b[0m\n\u001b[1;32m   1425\u001b[0m \u001b[0;34m\u001b[0m\u001b[0m\n\u001b[1;32m   1426\u001b[0m         \u001b[0;31m# self.func is Callable\u001b[0m\u001b[0;34m\u001b[0m\u001b[0;34m\u001b[0m\u001b[0m\n\u001b[0;32m-> 1427\u001b[0;31m         \u001b[0;32mreturn\u001b[0m \u001b[0mself\u001b[0m\u001b[0;34m.\u001b[0m\u001b[0mapply_standard\u001b[0m\u001b[0;34m(\u001b[0m\u001b[0;34m)\u001b[0m\u001b[0;34m\u001b[0m\u001b[0;34m\u001b[0m\u001b[0m\n\u001b[0m\u001b[1;32m   1428\u001b[0m \u001b[0;34m\u001b[0m\u001b[0m\n\u001b[1;32m   1429\u001b[0m     \u001b[0;32mdef\u001b[0m \u001b[0magg\u001b[0m\u001b[0;34m(\u001b[0m\u001b[0mself\u001b[0m\u001b[0;34m)\u001b[0m\u001b[0;34m:\u001b[0m\u001b[0;34m\u001b[0m\u001b[0;34m\u001b[0m\u001b[0m\n",
            "\u001b[0;32m/usr/local/lib/python3.11/dist-packages/pandas/core/apply.py\u001b[0m in \u001b[0;36mapply_standard\u001b[0;34m(self)\u001b[0m\n\u001b[1;32m   1505\u001b[0m         \u001b[0;31m#  Categorical (GH51645).\u001b[0m\u001b[0;34m\u001b[0m\u001b[0;34m\u001b[0m\u001b[0m\n\u001b[1;32m   1506\u001b[0m         \u001b[0maction\u001b[0m \u001b[0;34m=\u001b[0m \u001b[0;34m\"ignore\"\u001b[0m \u001b[0;32mif\u001b[0m \u001b[0misinstance\u001b[0m\u001b[0;34m(\u001b[0m\u001b[0mobj\u001b[0m\u001b[0;34m.\u001b[0m\u001b[0mdtype\u001b[0m\u001b[0;34m,\u001b[0m \u001b[0mCategoricalDtype\u001b[0m\u001b[0;34m)\u001b[0m \u001b[0;32melse\u001b[0m \u001b[0;32mNone\u001b[0m\u001b[0;34m\u001b[0m\u001b[0;34m\u001b[0m\u001b[0m\n\u001b[0;32m-> 1507\u001b[0;31m         mapped = obj._map_values(\n\u001b[0m\u001b[1;32m   1508\u001b[0m             \u001b[0mmapper\u001b[0m\u001b[0;34m=\u001b[0m\u001b[0mcurried\u001b[0m\u001b[0;34m,\u001b[0m \u001b[0mna_action\u001b[0m\u001b[0;34m=\u001b[0m\u001b[0maction\u001b[0m\u001b[0;34m,\u001b[0m \u001b[0mconvert\u001b[0m\u001b[0;34m=\u001b[0m\u001b[0mself\u001b[0m\u001b[0;34m.\u001b[0m\u001b[0mconvert_dtype\u001b[0m\u001b[0;34m\u001b[0m\u001b[0;34m\u001b[0m\u001b[0m\n\u001b[1;32m   1509\u001b[0m         )\n",
            "\u001b[0;32m/usr/local/lib/python3.11/dist-packages/pandas/core/base.py\u001b[0m in \u001b[0;36m_map_values\u001b[0;34m(self, mapper, na_action, convert)\u001b[0m\n\u001b[1;32m    919\u001b[0m             \u001b[0;32mreturn\u001b[0m \u001b[0marr\u001b[0m\u001b[0;34m.\u001b[0m\u001b[0mmap\u001b[0m\u001b[0;34m(\u001b[0m\u001b[0mmapper\u001b[0m\u001b[0;34m,\u001b[0m \u001b[0mna_action\u001b[0m\u001b[0;34m=\u001b[0m\u001b[0mna_action\u001b[0m\u001b[0;34m)\u001b[0m\u001b[0;34m\u001b[0m\u001b[0;34m\u001b[0m\u001b[0m\n\u001b[1;32m    920\u001b[0m \u001b[0;34m\u001b[0m\u001b[0m\n\u001b[0;32m--> 921\u001b[0;31m         \u001b[0;32mreturn\u001b[0m \u001b[0malgorithms\u001b[0m\u001b[0;34m.\u001b[0m\u001b[0mmap_array\u001b[0m\u001b[0;34m(\u001b[0m\u001b[0marr\u001b[0m\u001b[0;34m,\u001b[0m \u001b[0mmapper\u001b[0m\u001b[0;34m,\u001b[0m \u001b[0mna_action\u001b[0m\u001b[0;34m=\u001b[0m\u001b[0mna_action\u001b[0m\u001b[0;34m,\u001b[0m \u001b[0mconvert\u001b[0m\u001b[0;34m=\u001b[0m\u001b[0mconvert\u001b[0m\u001b[0;34m)\u001b[0m\u001b[0;34m\u001b[0m\u001b[0;34m\u001b[0m\u001b[0m\n\u001b[0m\u001b[1;32m    922\u001b[0m \u001b[0;34m\u001b[0m\u001b[0m\n\u001b[1;32m    923\u001b[0m     \u001b[0;34m@\u001b[0m\u001b[0mfinal\u001b[0m\u001b[0;34m\u001b[0m\u001b[0;34m\u001b[0m\u001b[0m\n",
            "\u001b[0;32m/usr/local/lib/python3.11/dist-packages/pandas/core/algorithms.py\u001b[0m in \u001b[0;36mmap_array\u001b[0;34m(arr, mapper, na_action, convert)\u001b[0m\n\u001b[1;32m   1741\u001b[0m     \u001b[0mvalues\u001b[0m \u001b[0;34m=\u001b[0m \u001b[0marr\u001b[0m\u001b[0;34m.\u001b[0m\u001b[0mastype\u001b[0m\u001b[0;34m(\u001b[0m\u001b[0mobject\u001b[0m\u001b[0;34m,\u001b[0m \u001b[0mcopy\u001b[0m\u001b[0;34m=\u001b[0m\u001b[0;32mFalse\u001b[0m\u001b[0;34m)\u001b[0m\u001b[0;34m\u001b[0m\u001b[0;34m\u001b[0m\u001b[0m\n\u001b[1;32m   1742\u001b[0m     \u001b[0;32mif\u001b[0m \u001b[0mna_action\u001b[0m \u001b[0;32mis\u001b[0m \u001b[0;32mNone\u001b[0m\u001b[0;34m:\u001b[0m\u001b[0;34m\u001b[0m\u001b[0;34m\u001b[0m\u001b[0m\n\u001b[0;32m-> 1743\u001b[0;31m         \u001b[0;32mreturn\u001b[0m \u001b[0mlib\u001b[0m\u001b[0;34m.\u001b[0m\u001b[0mmap_infer\u001b[0m\u001b[0;34m(\u001b[0m\u001b[0mvalues\u001b[0m\u001b[0;34m,\u001b[0m \u001b[0mmapper\u001b[0m\u001b[0;34m,\u001b[0m \u001b[0mconvert\u001b[0m\u001b[0;34m=\u001b[0m\u001b[0mconvert\u001b[0m\u001b[0;34m)\u001b[0m\u001b[0;34m\u001b[0m\u001b[0;34m\u001b[0m\u001b[0m\n\u001b[0m\u001b[1;32m   1744\u001b[0m     \u001b[0;32melse\u001b[0m\u001b[0;34m:\u001b[0m\u001b[0;34m\u001b[0m\u001b[0;34m\u001b[0m\u001b[0m\n\u001b[1;32m   1745\u001b[0m         return lib.map_infer_mask(\n",
            "\u001b[0;32mlib.pyx\u001b[0m in \u001b[0;36mpandas._libs.lib.map_infer\u001b[0;34m()\u001b[0m\n",
            "\u001b[0;32m/usr/local/lib/python3.11/dist-packages/tqdm/std.py\u001b[0m in \u001b[0;36mwrapper\u001b[0;34m(*args, **kwargs)\u001b[0m\n\u001b[1;32m    910\u001b[0m                     \u001b[0;31m# take a fast or slow code path; so stop when t.total==t.n\u001b[0m\u001b[0;34m\u001b[0m\u001b[0;34m\u001b[0m\u001b[0m\n\u001b[1;32m    911\u001b[0m                     \u001b[0mt\u001b[0m\u001b[0;34m.\u001b[0m\u001b[0mupdate\u001b[0m\u001b[0;34m(\u001b[0m\u001b[0mn\u001b[0m\u001b[0;34m=\u001b[0m\u001b[0;36m1\u001b[0m \u001b[0;32mif\u001b[0m \u001b[0;32mnot\u001b[0m \u001b[0mt\u001b[0m\u001b[0;34m.\u001b[0m\u001b[0mtotal\u001b[0m \u001b[0;32mor\u001b[0m \u001b[0mt\u001b[0m\u001b[0;34m.\u001b[0m\u001b[0mn\u001b[0m \u001b[0;34m<\u001b[0m \u001b[0mt\u001b[0m\u001b[0;34m.\u001b[0m\u001b[0mtotal\u001b[0m \u001b[0;32melse\u001b[0m \u001b[0;36m0\u001b[0m\u001b[0;34m)\u001b[0m\u001b[0;34m\u001b[0m\u001b[0;34m\u001b[0m\u001b[0m\n\u001b[0;32m--> 912\u001b[0;31m                     \u001b[0;32mreturn\u001b[0m \u001b[0mfunc\u001b[0m\u001b[0;34m(\u001b[0m\u001b[0;34m*\u001b[0m\u001b[0margs\u001b[0m\u001b[0;34m,\u001b[0m \u001b[0;34m**\u001b[0m\u001b[0mkwargs\u001b[0m\u001b[0;34m)\u001b[0m\u001b[0;34m\u001b[0m\u001b[0;34m\u001b[0m\u001b[0m\n\u001b[0m\u001b[1;32m    913\u001b[0m \u001b[0;34m\u001b[0m\u001b[0m\n\u001b[1;32m    914\u001b[0m                 \u001b[0;31m# Apply the provided function (in **kwargs)\u001b[0m\u001b[0;34m\u001b[0m\u001b[0;34m\u001b[0m\u001b[0m\n",
            "\u001b[0;32m/tmp/ipython-input-9-1214564992.py\u001b[0m in \u001b[0;36mclassify_stereotype_with_mistral_v5_silent\u001b[0;34m(line)\u001b[0m\n\u001b[1;32m     61\u001b[0m     Label:\"\"\"\n\u001b[1;32m     62\u001b[0m    \u001b[0minputs\u001b[0m \u001b[0;34m=\u001b[0m \u001b[0mtokenizer\u001b[0m\u001b[0;34m(\u001b[0m\u001b[0mprompt\u001b[0m\u001b[0;34m,\u001b[0m \u001b[0mreturn_tensors\u001b[0m\u001b[0;34m=\u001b[0m\u001b[0;34m\"pt\"\u001b[0m\u001b[0;34m)\u001b[0m\u001b[0;34m.\u001b[0m\u001b[0mto\u001b[0m\u001b[0;34m(\u001b[0m\u001b[0mmodel\u001b[0m\u001b[0;34m.\u001b[0m\u001b[0mdevice\u001b[0m\u001b[0;34m)\u001b[0m\u001b[0;34m\u001b[0m\u001b[0;34m\u001b[0m\u001b[0m\n\u001b[0;32m---> 63\u001b[0;31m    outputs = model.generate(\n\u001b[0m\u001b[1;32m     64\u001b[0m        \u001b[0;34m**\u001b[0m\u001b[0minputs\u001b[0m\u001b[0;34m,\u001b[0m\u001b[0;34m\u001b[0m\u001b[0;34m\u001b[0m\u001b[0m\n\u001b[1;32m     65\u001b[0m        \u001b[0mmax_new_tokens\u001b[0m\u001b[0;34m=\u001b[0m\u001b[0;36m10\u001b[0m\u001b[0;34m,\u001b[0m\u001b[0;34m\u001b[0m\u001b[0;34m\u001b[0m\u001b[0m\n",
            "\u001b[0;32m/usr/local/lib/python3.11/dist-packages/torch/utils/_contextlib.py\u001b[0m in \u001b[0;36mdecorate_context\u001b[0;34m(*args, **kwargs)\u001b[0m\n\u001b[1;32m    114\u001b[0m     \u001b[0;32mdef\u001b[0m \u001b[0mdecorate_context\u001b[0m\u001b[0;34m(\u001b[0m\u001b[0;34m*\u001b[0m\u001b[0margs\u001b[0m\u001b[0;34m,\u001b[0m \u001b[0;34m**\u001b[0m\u001b[0mkwargs\u001b[0m\u001b[0;34m)\u001b[0m\u001b[0;34m:\u001b[0m\u001b[0;34m\u001b[0m\u001b[0;34m\u001b[0m\u001b[0m\n\u001b[1;32m    115\u001b[0m         \u001b[0;32mwith\u001b[0m \u001b[0mctx_factory\u001b[0m\u001b[0;34m(\u001b[0m\u001b[0;34m)\u001b[0m\u001b[0;34m:\u001b[0m\u001b[0;34m\u001b[0m\u001b[0;34m\u001b[0m\u001b[0m\n\u001b[0;32m--> 116\u001b[0;31m             \u001b[0;32mreturn\u001b[0m \u001b[0mfunc\u001b[0m\u001b[0;34m(\u001b[0m\u001b[0;34m*\u001b[0m\u001b[0margs\u001b[0m\u001b[0;34m,\u001b[0m \u001b[0;34m**\u001b[0m\u001b[0mkwargs\u001b[0m\u001b[0;34m)\u001b[0m\u001b[0;34m\u001b[0m\u001b[0;34m\u001b[0m\u001b[0m\n\u001b[0m\u001b[1;32m    117\u001b[0m \u001b[0;34m\u001b[0m\u001b[0m\n\u001b[1;32m    118\u001b[0m     \u001b[0;32mreturn\u001b[0m \u001b[0mdecorate_context\u001b[0m\u001b[0;34m\u001b[0m\u001b[0;34m\u001b[0m\u001b[0m\n",
            "\u001b[0;32m/usr/local/lib/python3.11/dist-packages/transformers/generation/utils.py\u001b[0m in \u001b[0;36mgenerate\u001b[0;34m(self, inputs, generation_config, logits_processor, stopping_criteria, prefix_allowed_tokens_fn, synced_gpus, assistant_model, streamer, negative_prompt_ids, negative_prompt_attention_mask, use_model_defaults, custom_generate, **kwargs)\u001b[0m\n\u001b[1;32m   2623\u001b[0m \u001b[0;34m\u001b[0m\u001b[0m\n\u001b[1;32m   2624\u001b[0m             \u001b[0;31m# 12. run sample (it degenerates to greedy search when `generation_config.do_sample=False`)\u001b[0m\u001b[0;34m\u001b[0m\u001b[0;34m\u001b[0m\u001b[0m\n\u001b[0;32m-> 2625\u001b[0;31m             result = self._sample(\n\u001b[0m\u001b[1;32m   2626\u001b[0m                 \u001b[0minput_ids\u001b[0m\u001b[0;34m,\u001b[0m\u001b[0;34m\u001b[0m\u001b[0;34m\u001b[0m\u001b[0m\n\u001b[1;32m   2627\u001b[0m                 \u001b[0mlogits_processor\u001b[0m\u001b[0;34m=\u001b[0m\u001b[0mprepared_logits_processor\u001b[0m\u001b[0;34m,\u001b[0m\u001b[0;34m\u001b[0m\u001b[0;34m\u001b[0m\u001b[0m\n",
            "\u001b[0;32m/usr/local/lib/python3.11/dist-packages/transformers/generation/utils.py\u001b[0m in \u001b[0;36m_sample\u001b[0;34m(self, input_ids, logits_processor, stopping_criteria, generation_config, synced_gpus, streamer, **model_kwargs)\u001b[0m\n\u001b[1;32m   3604\u001b[0m \u001b[0;34m\u001b[0m\u001b[0m\n\u001b[1;32m   3605\u001b[0m             \u001b[0;32mif\u001b[0m \u001b[0mis_prefill\u001b[0m\u001b[0;34m:\u001b[0m\u001b[0;34m\u001b[0m\u001b[0;34m\u001b[0m\u001b[0m\n\u001b[0;32m-> 3606\u001b[0;31m                 \u001b[0moutputs\u001b[0m \u001b[0;34m=\u001b[0m \u001b[0mself\u001b[0m\u001b[0;34m(\u001b[0m\u001b[0;34m**\u001b[0m\u001b[0mmodel_inputs\u001b[0m\u001b[0;34m,\u001b[0m \u001b[0mreturn_dict\u001b[0m\u001b[0;34m=\u001b[0m\u001b[0;32mTrue\u001b[0m\u001b[0;34m)\u001b[0m\u001b[0;34m\u001b[0m\u001b[0;34m\u001b[0m\u001b[0m\n\u001b[0m\u001b[1;32m   3607\u001b[0m                 \u001b[0mis_prefill\u001b[0m \u001b[0;34m=\u001b[0m \u001b[0;32mFalse\u001b[0m\u001b[0;34m\u001b[0m\u001b[0;34m\u001b[0m\u001b[0m\n\u001b[1;32m   3608\u001b[0m             \u001b[0;32melse\u001b[0m\u001b[0;34m:\u001b[0m\u001b[0;34m\u001b[0m\u001b[0;34m\u001b[0m\u001b[0m\n",
            "\u001b[0;32m/usr/local/lib/python3.11/dist-packages/torch/nn/modules/module.py\u001b[0m in \u001b[0;36m_wrapped_call_impl\u001b[0;34m(self, *args, **kwargs)\u001b[0m\n\u001b[1;32m   1737\u001b[0m             \u001b[0;32mreturn\u001b[0m \u001b[0mself\u001b[0m\u001b[0;34m.\u001b[0m\u001b[0m_compiled_call_impl\u001b[0m\u001b[0;34m(\u001b[0m\u001b[0;34m*\u001b[0m\u001b[0margs\u001b[0m\u001b[0;34m,\u001b[0m \u001b[0;34m**\u001b[0m\u001b[0mkwargs\u001b[0m\u001b[0;34m)\u001b[0m  \u001b[0;31m# type: ignore[misc]\u001b[0m\u001b[0;34m\u001b[0m\u001b[0;34m\u001b[0m\u001b[0m\n\u001b[1;32m   1738\u001b[0m         \u001b[0;32melse\u001b[0m\u001b[0;34m:\u001b[0m\u001b[0;34m\u001b[0m\u001b[0;34m\u001b[0m\u001b[0m\n\u001b[0;32m-> 1739\u001b[0;31m             \u001b[0;32mreturn\u001b[0m \u001b[0mself\u001b[0m\u001b[0;34m.\u001b[0m\u001b[0m_call_impl\u001b[0m\u001b[0;34m(\u001b[0m\u001b[0;34m*\u001b[0m\u001b[0margs\u001b[0m\u001b[0;34m,\u001b[0m \u001b[0;34m**\u001b[0m\u001b[0mkwargs\u001b[0m\u001b[0;34m)\u001b[0m\u001b[0;34m\u001b[0m\u001b[0;34m\u001b[0m\u001b[0m\n\u001b[0m\u001b[1;32m   1740\u001b[0m \u001b[0;34m\u001b[0m\u001b[0m\n\u001b[1;32m   1741\u001b[0m     \u001b[0;31m# torchrec tests the code consistency with the following code\u001b[0m\u001b[0;34m\u001b[0m\u001b[0;34m\u001b[0m\u001b[0m\n",
            "\u001b[0;32m/usr/local/lib/python3.11/dist-packages/torch/nn/modules/module.py\u001b[0m in \u001b[0;36m_call_impl\u001b[0;34m(self, *args, **kwargs)\u001b[0m\n\u001b[1;32m   1748\u001b[0m                 \u001b[0;32mor\u001b[0m \u001b[0m_global_backward_pre_hooks\u001b[0m \u001b[0;32mor\u001b[0m \u001b[0m_global_backward_hooks\u001b[0m\u001b[0;34m\u001b[0m\u001b[0;34m\u001b[0m\u001b[0m\n\u001b[1;32m   1749\u001b[0m                 or _global_forward_hooks or _global_forward_pre_hooks):\n\u001b[0;32m-> 1750\u001b[0;31m             \u001b[0;32mreturn\u001b[0m \u001b[0mforward_call\u001b[0m\u001b[0;34m(\u001b[0m\u001b[0;34m*\u001b[0m\u001b[0margs\u001b[0m\u001b[0;34m,\u001b[0m \u001b[0;34m**\u001b[0m\u001b[0mkwargs\u001b[0m\u001b[0;34m)\u001b[0m\u001b[0;34m\u001b[0m\u001b[0;34m\u001b[0m\u001b[0m\n\u001b[0m\u001b[1;32m   1751\u001b[0m \u001b[0;34m\u001b[0m\u001b[0m\n\u001b[1;32m   1752\u001b[0m         \u001b[0mresult\u001b[0m \u001b[0;34m=\u001b[0m \u001b[0;32mNone\u001b[0m\u001b[0;34m\u001b[0m\u001b[0;34m\u001b[0m\u001b[0m\n",
            "\u001b[0;32m/usr/local/lib/python3.11/dist-packages/accelerate/hooks.py\u001b[0m in \u001b[0;36mnew_forward\u001b[0;34m(module, *args, **kwargs)\u001b[0m\n\u001b[1;32m    173\u001b[0m                 \u001b[0moutput\u001b[0m \u001b[0;34m=\u001b[0m \u001b[0mmodule\u001b[0m\u001b[0;34m.\u001b[0m\u001b[0m_old_forward\u001b[0m\u001b[0;34m(\u001b[0m\u001b[0;34m*\u001b[0m\u001b[0margs\u001b[0m\u001b[0;34m,\u001b[0m \u001b[0;34m**\u001b[0m\u001b[0mkwargs\u001b[0m\u001b[0;34m)\u001b[0m\u001b[0;34m\u001b[0m\u001b[0;34m\u001b[0m\u001b[0m\n\u001b[1;32m    174\u001b[0m         \u001b[0;32melse\u001b[0m\u001b[0;34m:\u001b[0m\u001b[0;34m\u001b[0m\u001b[0;34m\u001b[0m\u001b[0m\n\u001b[0;32m--> 175\u001b[0;31m             \u001b[0moutput\u001b[0m \u001b[0;34m=\u001b[0m \u001b[0mmodule\u001b[0m\u001b[0;34m.\u001b[0m\u001b[0m_old_forward\u001b[0m\u001b[0;34m(\u001b[0m\u001b[0;34m*\u001b[0m\u001b[0margs\u001b[0m\u001b[0;34m,\u001b[0m \u001b[0;34m**\u001b[0m\u001b[0mkwargs\u001b[0m\u001b[0;34m)\u001b[0m\u001b[0;34m\u001b[0m\u001b[0;34m\u001b[0m\u001b[0m\n\u001b[0m\u001b[1;32m    176\u001b[0m         \u001b[0;32mreturn\u001b[0m \u001b[0mmodule\u001b[0m\u001b[0;34m.\u001b[0m\u001b[0m_hf_hook\u001b[0m\u001b[0;34m.\u001b[0m\u001b[0mpost_forward\u001b[0m\u001b[0;34m(\u001b[0m\u001b[0mmodule\u001b[0m\u001b[0;34m,\u001b[0m \u001b[0moutput\u001b[0m\u001b[0;34m)\u001b[0m\u001b[0;34m\u001b[0m\u001b[0;34m\u001b[0m\u001b[0m\n\u001b[1;32m    177\u001b[0m \u001b[0;34m\u001b[0m\u001b[0m\n",
            "\u001b[0;32m/usr/local/lib/python3.11/dist-packages/transformers/utils/generic.py\u001b[0m in \u001b[0;36mwrapper\u001b[0;34m(self, *args, **kwargs)\u001b[0m\n\u001b[1;32m    941\u001b[0m \u001b[0;34m\u001b[0m\u001b[0m\n\u001b[1;32m    942\u001b[0m         \u001b[0;32mtry\u001b[0m\u001b[0;34m:\u001b[0m\u001b[0;34m\u001b[0m\u001b[0;34m\u001b[0m\u001b[0m\n\u001b[0;32m--> 943\u001b[0;31m             \u001b[0moutput\u001b[0m \u001b[0;34m=\u001b[0m \u001b[0mfunc\u001b[0m\u001b[0;34m(\u001b[0m\u001b[0mself\u001b[0m\u001b[0;34m,\u001b[0m \u001b[0;34m*\u001b[0m\u001b[0margs\u001b[0m\u001b[0;34m,\u001b[0m \u001b[0;34m**\u001b[0m\u001b[0mkwargs\u001b[0m\u001b[0;34m)\u001b[0m\u001b[0;34m\u001b[0m\u001b[0;34m\u001b[0m\u001b[0m\n\u001b[0m\u001b[1;32m    944\u001b[0m             \u001b[0;32mif\u001b[0m \u001b[0mis_requested_to_return_tuple\u001b[0m \u001b[0;32mor\u001b[0m \u001b[0;34m(\u001b[0m\u001b[0mis_configured_to_return_tuple\u001b[0m \u001b[0;32mand\u001b[0m \u001b[0mis_top_level_module\u001b[0m\u001b[0;34m)\u001b[0m\u001b[0;34m:\u001b[0m\u001b[0;34m\u001b[0m\u001b[0;34m\u001b[0m\u001b[0m\n\u001b[1;32m    945\u001b[0m                 \u001b[0moutput\u001b[0m \u001b[0;34m=\u001b[0m \u001b[0moutput\u001b[0m\u001b[0;34m.\u001b[0m\u001b[0mto_tuple\u001b[0m\u001b[0;34m(\u001b[0m\u001b[0;34m)\u001b[0m\u001b[0;34m\u001b[0m\u001b[0;34m\u001b[0m\u001b[0m\n",
            "\u001b[0;32m/usr/local/lib/python3.11/dist-packages/transformers/models/mistral/modeling_mistral.py\u001b[0m in \u001b[0;36mforward\u001b[0;34m(self, input_ids, attention_mask, position_ids, past_key_values, inputs_embeds, labels, use_cache, output_attentions, output_hidden_states, cache_position, logits_to_keep, **kwargs)\u001b[0m\n\u001b[1;32m    544\u001b[0m         \u001b[0;31m# Only compute necessary logits, and do not upcast them to float if we are not computing the loss\u001b[0m\u001b[0;34m\u001b[0m\u001b[0;34m\u001b[0m\u001b[0m\n\u001b[1;32m    545\u001b[0m         \u001b[0mslice_indices\u001b[0m \u001b[0;34m=\u001b[0m \u001b[0mslice\u001b[0m\u001b[0;34m(\u001b[0m\u001b[0;34m-\u001b[0m\u001b[0mlogits_to_keep\u001b[0m\u001b[0;34m,\u001b[0m \u001b[0;32mNone\u001b[0m\u001b[0;34m)\u001b[0m \u001b[0;32mif\u001b[0m \u001b[0misinstance\u001b[0m\u001b[0;34m(\u001b[0m\u001b[0mlogits_to_keep\u001b[0m\u001b[0;34m,\u001b[0m \u001b[0mint\u001b[0m\u001b[0;34m)\u001b[0m \u001b[0;32melse\u001b[0m \u001b[0mlogits_to_keep\u001b[0m\u001b[0;34m\u001b[0m\u001b[0;34m\u001b[0m\u001b[0m\n\u001b[0;32m--> 546\u001b[0;31m         \u001b[0mlogits\u001b[0m \u001b[0;34m=\u001b[0m \u001b[0mself\u001b[0m\u001b[0;34m.\u001b[0m\u001b[0mlm_head\u001b[0m\u001b[0;34m(\u001b[0m\u001b[0mhidden_states\u001b[0m\u001b[0;34m[\u001b[0m\u001b[0;34m:\u001b[0m\u001b[0;34m,\u001b[0m \u001b[0mslice_indices\u001b[0m\u001b[0;34m,\u001b[0m \u001b[0;34m:\u001b[0m\u001b[0;34m]\u001b[0m\u001b[0;34m)\u001b[0m\u001b[0;34m\u001b[0m\u001b[0;34m\u001b[0m\u001b[0m\n\u001b[0m\u001b[1;32m    547\u001b[0m \u001b[0;34m\u001b[0m\u001b[0m\n\u001b[1;32m    548\u001b[0m         \u001b[0mloss\u001b[0m \u001b[0;34m=\u001b[0m \u001b[0;32mNone\u001b[0m\u001b[0;34m\u001b[0m\u001b[0;34m\u001b[0m\u001b[0m\n",
            "\u001b[0;32m/usr/local/lib/python3.11/dist-packages/torch/nn/modules/module.py\u001b[0m in \u001b[0;36m_wrapped_call_impl\u001b[0;34m(self, *args, **kwargs)\u001b[0m\n\u001b[1;32m   1737\u001b[0m             \u001b[0;32mreturn\u001b[0m \u001b[0mself\u001b[0m\u001b[0;34m.\u001b[0m\u001b[0m_compiled_call_impl\u001b[0m\u001b[0;34m(\u001b[0m\u001b[0;34m*\u001b[0m\u001b[0margs\u001b[0m\u001b[0;34m,\u001b[0m \u001b[0;34m**\u001b[0m\u001b[0mkwargs\u001b[0m\u001b[0;34m)\u001b[0m  \u001b[0;31m# type: ignore[misc]\u001b[0m\u001b[0;34m\u001b[0m\u001b[0;34m\u001b[0m\u001b[0m\n\u001b[1;32m   1738\u001b[0m         \u001b[0;32melse\u001b[0m\u001b[0;34m:\u001b[0m\u001b[0;34m\u001b[0m\u001b[0;34m\u001b[0m\u001b[0m\n\u001b[0;32m-> 1739\u001b[0;31m             \u001b[0;32mreturn\u001b[0m \u001b[0mself\u001b[0m\u001b[0;34m.\u001b[0m\u001b[0m_call_impl\u001b[0m\u001b[0;34m(\u001b[0m\u001b[0;34m*\u001b[0m\u001b[0margs\u001b[0m\u001b[0;34m,\u001b[0m \u001b[0;34m**\u001b[0m\u001b[0mkwargs\u001b[0m\u001b[0;34m)\u001b[0m\u001b[0;34m\u001b[0m\u001b[0;34m\u001b[0m\u001b[0m\n\u001b[0m\u001b[1;32m   1740\u001b[0m \u001b[0;34m\u001b[0m\u001b[0m\n\u001b[1;32m   1741\u001b[0m     \u001b[0;31m# torchrec tests the code consistency with the following code\u001b[0m\u001b[0;34m\u001b[0m\u001b[0;34m\u001b[0m\u001b[0m\n",
            "\u001b[0;32m/usr/local/lib/python3.11/dist-packages/torch/nn/modules/module.py\u001b[0m in \u001b[0;36m_call_impl\u001b[0;34m(self, *args, **kwargs)\u001b[0m\n\u001b[1;32m   1748\u001b[0m                 \u001b[0;32mor\u001b[0m \u001b[0m_global_backward_pre_hooks\u001b[0m \u001b[0;32mor\u001b[0m \u001b[0m_global_backward_hooks\u001b[0m\u001b[0;34m\u001b[0m\u001b[0;34m\u001b[0m\u001b[0m\n\u001b[1;32m   1749\u001b[0m                 or _global_forward_hooks or _global_forward_pre_hooks):\n\u001b[0;32m-> 1750\u001b[0;31m             \u001b[0;32mreturn\u001b[0m \u001b[0mforward_call\u001b[0m\u001b[0;34m(\u001b[0m\u001b[0;34m*\u001b[0m\u001b[0margs\u001b[0m\u001b[0;34m,\u001b[0m \u001b[0;34m**\u001b[0m\u001b[0mkwargs\u001b[0m\u001b[0;34m)\u001b[0m\u001b[0;34m\u001b[0m\u001b[0;34m\u001b[0m\u001b[0m\n\u001b[0m\u001b[1;32m   1751\u001b[0m \u001b[0;34m\u001b[0m\u001b[0m\n\u001b[1;32m   1752\u001b[0m         \u001b[0mresult\u001b[0m \u001b[0;34m=\u001b[0m \u001b[0;32mNone\u001b[0m\u001b[0;34m\u001b[0m\u001b[0;34m\u001b[0m\u001b[0m\n",
            "\u001b[0;32m/usr/local/lib/python3.11/dist-packages/accelerate/hooks.py\u001b[0m in \u001b[0;36mnew_forward\u001b[0;34m(module, *args, **kwargs)\u001b[0m\n\u001b[1;32m    168\u001b[0m \u001b[0;34m\u001b[0m\u001b[0m\n\u001b[1;32m    169\u001b[0m     \u001b[0;32mdef\u001b[0m \u001b[0mnew_forward\u001b[0m\u001b[0;34m(\u001b[0m\u001b[0mmodule\u001b[0m\u001b[0;34m,\u001b[0m \u001b[0;34m*\u001b[0m\u001b[0margs\u001b[0m\u001b[0;34m,\u001b[0m \u001b[0;34m**\u001b[0m\u001b[0mkwargs\u001b[0m\u001b[0;34m)\u001b[0m\u001b[0;34m:\u001b[0m\u001b[0;34m\u001b[0m\u001b[0;34m\u001b[0m\u001b[0m\n\u001b[0;32m--> 170\u001b[0;31m         \u001b[0margs\u001b[0m\u001b[0;34m,\u001b[0m \u001b[0mkwargs\u001b[0m \u001b[0;34m=\u001b[0m \u001b[0mmodule\u001b[0m\u001b[0;34m.\u001b[0m\u001b[0m_hf_hook\u001b[0m\u001b[0;34m.\u001b[0m\u001b[0mpre_forward\u001b[0m\u001b[0;34m(\u001b[0m\u001b[0mmodule\u001b[0m\u001b[0;34m,\u001b[0m \u001b[0;34m*\u001b[0m\u001b[0margs\u001b[0m\u001b[0;34m,\u001b[0m \u001b[0;34m**\u001b[0m\u001b[0mkwargs\u001b[0m\u001b[0;34m)\u001b[0m\u001b[0;34m\u001b[0m\u001b[0;34m\u001b[0m\u001b[0m\n\u001b[0m\u001b[1;32m    171\u001b[0m         \u001b[0;32mif\u001b[0m \u001b[0mmodule\u001b[0m\u001b[0;34m.\u001b[0m\u001b[0m_hf_hook\u001b[0m\u001b[0;34m.\u001b[0m\u001b[0mno_grad\u001b[0m\u001b[0;34m:\u001b[0m\u001b[0;34m\u001b[0m\u001b[0;34m\u001b[0m\u001b[0m\n\u001b[1;32m    172\u001b[0m             \u001b[0;32mwith\u001b[0m \u001b[0mtorch\u001b[0m\u001b[0;34m.\u001b[0m\u001b[0mno_grad\u001b[0m\u001b[0;34m(\u001b[0m\u001b[0;34m)\u001b[0m\u001b[0;34m:\u001b[0m\u001b[0;34m\u001b[0m\u001b[0;34m\u001b[0m\u001b[0m\n",
            "\u001b[0;32m/usr/local/lib/python3.11/dist-packages/accelerate/hooks.py\u001b[0m in \u001b[0;36mpre_forward\u001b[0;34m(self, module, *args, **kwargs)\u001b[0m\n\u001b[1;32m    358\u001b[0m                     \u001b[0mself\u001b[0m\u001b[0;34m.\u001b[0m\u001b[0mtied_pointers_to_remove\u001b[0m\u001b[0;34m.\u001b[0m\u001b[0madd\u001b[0m\u001b[0;34m(\u001b[0m\u001b[0;34m(\u001b[0m\u001b[0mvalue\u001b[0m\u001b[0;34m.\u001b[0m\u001b[0mdata_ptr\u001b[0m\u001b[0;34m(\u001b[0m\u001b[0;34m)\u001b[0m\u001b[0;34m,\u001b[0m \u001b[0mself\u001b[0m\u001b[0;34m.\u001b[0m\u001b[0mexecution_device\u001b[0m\u001b[0;34m)\u001b[0m\u001b[0;34m)\u001b[0m\u001b[0;34m\u001b[0m\u001b[0;34m\u001b[0m\u001b[0m\n\u001b[1;32m    359\u001b[0m \u001b[0;34m\u001b[0m\u001b[0m\n\u001b[0;32m--> 360\u001b[0;31m                 set_module_tensor_to_device(\n\u001b[0m\u001b[1;32m    361\u001b[0m                     \u001b[0mmodule\u001b[0m\u001b[0;34m,\u001b[0m\u001b[0;34m\u001b[0m\u001b[0;34m\u001b[0m\u001b[0m\n\u001b[1;32m    362\u001b[0m                     \u001b[0mname\u001b[0m\u001b[0;34m,\u001b[0m\u001b[0;34m\u001b[0m\u001b[0;34m\u001b[0m\u001b[0m\n",
            "\u001b[0;32m/usr/local/lib/python3.11/dist-packages/accelerate/utils/modeling.py\u001b[0m in \u001b[0;36mset_module_tensor_to_device\u001b[0;34m(module, tensor_name, device, value, dtype, fp16_statistics, tied_params_map)\u001b[0m\n\u001b[1;32m    335\u001b[0m                     \u001b[0mmodule\u001b[0m\u001b[0;34m.\u001b[0m\u001b[0m_parameters\u001b[0m\u001b[0;34m[\u001b[0m\u001b[0mtensor_name\u001b[0m\u001b[0;34m]\u001b[0m \u001b[0;34m=\u001b[0m \u001b[0mparam_cls\u001b[0m\u001b[0;34m(\u001b[0m\u001b[0mnew_value\u001b[0m\u001b[0;34m,\u001b[0m \u001b[0mrequires_grad\u001b[0m\u001b[0;34m=\u001b[0m\u001b[0mold_value\u001b[0m\u001b[0;34m.\u001b[0m\u001b[0mrequires_grad\u001b[0m\u001b[0;34m)\u001b[0m\u001b[0;34m\u001b[0m\u001b[0;34m\u001b[0m\u001b[0m\n\u001b[1;32m    336\u001b[0m         \u001b[0;32melif\u001b[0m \u001b[0misinstance\u001b[0m\u001b[0;34m(\u001b[0m\u001b[0mvalue\u001b[0m\u001b[0;34m,\u001b[0m \u001b[0mtorch\u001b[0m\u001b[0;34m.\u001b[0m\u001b[0mTensor\u001b[0m\u001b[0;34m)\u001b[0m\u001b[0;34m:\u001b[0m\u001b[0;34m\u001b[0m\u001b[0;34m\u001b[0m\u001b[0m\n\u001b[0;32m--> 337\u001b[0;31m             \u001b[0mnew_value\u001b[0m \u001b[0;34m=\u001b[0m \u001b[0mvalue\u001b[0m\u001b[0;34m.\u001b[0m\u001b[0mto\u001b[0m\u001b[0;34m(\u001b[0m\u001b[0mdevice\u001b[0m\u001b[0;34m)\u001b[0m\u001b[0;34m\u001b[0m\u001b[0;34m\u001b[0m\u001b[0m\n\u001b[0m\u001b[1;32m    338\u001b[0m         \u001b[0;32melse\u001b[0m\u001b[0;34m:\u001b[0m\u001b[0;34m\u001b[0m\u001b[0;34m\u001b[0m\u001b[0m\n\u001b[1;32m    339\u001b[0m             \u001b[0mnew_value\u001b[0m \u001b[0;34m=\u001b[0m \u001b[0mtorch\u001b[0m\u001b[0;34m.\u001b[0m\u001b[0mtensor\u001b[0m\u001b[0;34m(\u001b[0m\u001b[0mvalue\u001b[0m\u001b[0;34m,\u001b[0m \u001b[0mdevice\u001b[0m\u001b[0;34m=\u001b[0m\u001b[0mdevice\u001b[0m\u001b[0;34m)\u001b[0m\u001b[0;34m\u001b[0m\u001b[0;34m\u001b[0m\u001b[0m\n",
            "\u001b[0;31mKeyboardInterrupt\u001b[0m: "
          ]
        }
      ]
    },
    {
      "cell_type": "code",
      "source": [
        "import glob\n",
        "import pandas as pd\n",
        "files = sorted(glob.glob(\"chunk_*.csv\"))\n",
        "df_all = pd.concat([pd.read_csv(f) for f in files], ignore_index=True)\n",
        "df_all.to_csv(\"ai_stereotype_annotated_final.csv\", index=False)\n",
        "print(\"✅ All chunks merged and saved.\")"
      ],
      "metadata": {
        "id": "0efgBWdDbnSI"
      },
      "execution_count": null,
      "outputs": []
    },
    {
      "cell_type": "markdown",
      "source": [
        "## Ploting dataset results\n"
      ],
      "metadata": {
        "id": "-aAkt9NKy_QF"
      }
    },
    {
      "cell_type": "code",
      "source": [
        "import pandas as pd\n",
        "import matplotlib.pyplot as plt\n",
        "\n",
        "df = pd.read_csv(r\"ai_stereotype_annotated_final.csv\")\n",
        "\n",
        "assert 'gender' in df.columns and 'stereotype_type' in df.columns, \"Missing required columns.\"\n",
        "\n",
        "overall_bias_counts = df['stereotype_type'].value_counts()\n",
        "overall_bias_percentages = (overall_bias_counts / overall_bias_counts.sum()) * 100\n",
        "overall_bias_percentages.to_csv(r\"bias_scores_overall.csv\", index_label=\"stereotype_type\", header=[\"percentage\"])\n",
        "print(\"✅ Saved: bias_scores_overall.csv\")\n",
        "\n",
        "bias_by_gender = df.groupby(['gender', 'stereotype_type']).size().unstack(fill_value=0)\n",
        "bias_by_gender_percent = bias_by_gender.div(bias_by_gender.sum(axis=1), axis=0) * 100\n",
        "bias_by_gender_percent.to_csv(r\"bias_scores_by_gender.csv\", index_label=\"gender\")\n",
        "print(\"✅ Saved: bias_scores_by_gender.csv\")\n",
        "\n",
        "plt.figure(figsize=(10, 6))\n",
        "overall_bias_percentages.sort_values(ascending=True).plot(kind='barh', color='skyblue')\n",
        "plt.xlabel(\"Percentage\")\n",
        "plt.title(\"Overall Stereotype Distribution\")\n",
        "plt.tight_layout()\n",
        "plt.savefig(r\"bias_trends_overall.png\")\n",
        "print(\"✅ Saved: bias_trends_overall.png\")\n",
        "plt.show()\n"
      ],
      "metadata": {
        "colab": {
          "base_uri": "https://localhost:8080/",
          "height": 468
        },
        "id": "RPRUrQlazn70",
        "outputId": "039f53a3-e7c9-48ec-8fc4-cb2c43df4396"
      },
      "execution_count": null,
      "outputs": [
        {
          "output_type": "stream",
          "name": "stdout",
          "text": [
            "✅ Saved: bias_scores_overall.csv\n",
            "✅ Saved: bias_scores_by_gender.csv\n",
            "✅ Saved: bias_trends_overall.png\n"
          ]
        },
        {
          "output_type": "display_data",
          "data": {
            "text/plain": [
              "<Figure size 1000x600 with 1 Axes>"
            ],
            "image/png": "[encoded data removed]"
          },
          "metadata": {}
        }
      ]
    },
    {
      "cell_type": "code",
      "source": [
        "import torch\n",
        "from transformers import AutoTokenizer, AutoModelForCausalLM\n",
        "\n",
        "model_name = \"mistralai/Mistral-7B-Instruct-v0.1\"\n",
        "tokenizer = AutoTokenizer.from_pretrained(model_name)\n",
        "model = AutoModelForCausalLM.from_pretrained(\n",
        "    model_name,\n",
        "    torch_dtype=torch.float16,\n",
        "    device_map=\"auto\"\n",
        ")\n",
        "\n",
        "print(\"✅ Mistral model loaded.\")"
      ],
      "metadata": {
        "colab": {
          "base_uri": "https://localhost:8080/",
          "height": 105,
          "referenced_widgets": [
            "151caa64e5684ee397ce275f450c2e3f",
            "b9f7b8b200fc4877a91cc97c6d54bbdf",
            "c1d1ab3c77c94b1994f139538a5e7929",
            "585d6f77623e478f8ec6321e1060b651",
            "7c38a3bf139541bdb89d170cd940e721",
            "1613b48789af441c9c22733d8ec877f4",
            "9c65fb01a2564f6998b8cad67b9e049a",
            "18557873566144a2a33c4a5371bb1cef",
            "4e1c2c1795fa4434a8c34b51a139b500",
            "adae615eb6b54d9aaa91e0c7591830eb",
            "27c2931b1c3048e7bc5e31165c8639a4"
          ]
        },
        "id": "v2mssxxR0Cnl",
        "outputId": "922f7978-609b-4709-df45-4c446b5109c6"
      },
      "execution_count": null,
      "outputs": [
        {
          "output_type": "display_data",
          "data": {
            "text/plain": [
              "Loading checkpoint shards:   0%|          | 0/2 [00:00<?, ?it/s]"
            ],
            "application/vnd.jupyter.widget-view+json": {
              "version_major": 2,
              "version_minor": 0,
              "model_id": "151caa64e5684ee397ce275f450c2e3f"
            }
          },
          "metadata": {}
        },
        {
          "output_type": "stream",
          "name": "stderr",
          "text": [
            "WARNING:accelerate.big_modeling:Some parameters are on the meta device because they were offloaded to the cpu and disk.\n"
          ]
        },
        {
          "output_type": "stream",
          "name": "stdout",
          "text": [
            "✅ Mistral model loaded.\n"
          ]
        }
      ]
    },
    {
      "cell_type": "code",
      "source": [
        "import pandas as pd\n",
        "from tqdm import tqdm\n",
        "\n",
        "df = pd.read_csv(\"ai_stereotype_annotated_final.csv\")\n",
        "\n",
        "def rewrite_biased_line_with_mistral_v2(line, stereotype_type):\n",
        "    prompt = f\"\"\"\n",
        "You are a helpful assistant trained to rewrite movie script lines that reinforce gender stereotypes.\n",
        "\n",
        "Stereotype detected: {stereotype_type}\n",
        "\n",
        "Avoid rephrasing the same stereotype. Instead, remove the biased framing and rewrite the line by giving the character agency, ambition, or equality, while preserving narrative meaning.\n",
        "\n",
        "Line: \"{line}\"\n",
        "Rewritten line:\"\"\"\n",
        "\n",
        "    inputs = tokenizer(prompt.strip(), return_tensors=\"pt\").to(model.device)\n",
        "    outputs = model.generate(**inputs, max_new_tokens=40, pad_token_id=tokenizer.eos_token_id)\n",
        "    decoded = tokenizer.decode(outputs[0], skip_special_tokens=True).strip()\n",
        "\n",
        "    rewritten_line = decoded.split(\"Rewritten line:\")[-1].strip().strip('\"')\n",
        "    return rewritten_line\n",
        "tqdm.pandas()\n",
        "\n",
        "df[\"rewritten_line\"] = df.progress_apply(\n",
        "    lambda row: rewrite_biased_line_with_mistral_v2(row[\"line\"], row[\"stereotype_type\"])\n",
        "    if row[\"stereotype_type\"] != \"none\" else row[\"line\"],\n",
        "    axis=1\n",
        ")\n",
        "\n",
        "df.to_csv(\"phase4a_rewrites.csv\", index=False)\n",
        "print(\"✅ Saved Phase 4A output to phase4a_rewrites.csv\")\n"
      ],
      "metadata": {
        "colab": {
          "base_uri": "https://localhost:8080/"
        },
        "id": "SFK3rtGZ0J3k",
        "outputId": "e724d40e-c7fc-46bc-a710-a3f65eea6c54"
      },
      "execution_count": null,
      "outputs": [
        {
          "output_type": "stream",
          "name": "stderr",
          "text": [
            "  0%|          | 5/2296 [1:09:41<571:42:00, 898.35s/it]"
          ]
        }
      ]
    },
    {
      "cell_type": "code",
      "source": [
        "!pip install reportlab"
      ],
      "metadata": {
        "id": "Z3SE1mWi0Whq"
      },
      "execution_count": null,
      "outputs": []
    },
    {
      "cell_type": "markdown",
      "source": [
        "## PDF Making\n"
      ],
      "metadata": {
        "id": "i3kCs3BW0eDV"
      }
    },
    {
      "cell_type": "code",
      "source": [
        "\n",
        "import pandas as pd\n",
        "from tqdm import tqdm\n",
        "from reportlab.platypus import SimpleDocTemplate, Table, TableStyle, Paragraph, Spacer\n",
        "from reportlab.lib import colors\n",
        "from reportlab.lib.pagesizes import A4\n",
        "from reportlab.lib.styles import getSampleStyleSheet\n",
        "\n",
        "df = pd.read_csv(r\"D:\\PROG\\docu3C\\BollyAI_2_0\\output\\phase4a_rewrites (1).csv\")  # Output of Phase 4A\n",
        "df = df[df['stereotype_type'] != 'none'].copy()\n",
        "\n",
        "severity_map = {\n",
        "    \"appearance_focus\": 2,\n",
        "    \"relationship_only\": 2,\n",
        "    \"agency_gap\": 3,\n",
        "    \"occupation_gap\": 3,\n",
        "}\n",
        "df[\"severity_score\"] = df[\"stereotype_type\"].map(severity_map).fillna(1)\n",
        "\n",
        "df[\"rewrite\"] = df[\"rewritten_line\"]\n",
        "\n",
        "df[\"rank\"] = df[\"severity_score\"].rank(method=\"dense\", ascending=False).astype(int)\n",
        "\n",
        "df.to_csv(r\"feedback_report.csv\", index=False)\n",
        "print(\"✅ CSV report saved as feedback_report.csv\")\n",
        "\n",
        "doc = SimpleDocTemplate(r\"feedback_report.pdf\", pagesize=A4)\n",
        "styles = getSampleStyleSheet()\n",
        "elements = []\n",
        "\n",
        "elements.append(Paragraph(\"🎬 Bollywood Bias Buster – Script Feedback Report\", styles[\"Title\"]))\n",
        "elements.append(Spacer(1, 12))\n",
        "\n",
        "data = [[\"#\", \"Original Line\", \"Stereotype\", \"Severity\", \"Rewritten Line\"]]\n",
        "\n",
        "for idx, row in df.sort_values(\"rank\").iterrows():\n",
        "    data.append([\n",
        "        row[\"rank\"],\n",
        "        row[\"line\"],\n",
        "        row[\"stereotype_type\"],\n",
        "        int(row[\"severity_score\"]),\n",
        "        row[\"rewrite\"]\n",
        "    ])\n",
        "\n",
        "table = Table(data, colWidths=[30, 160, 85, 60, 180])\n",
        "table.setStyle(TableStyle([\n",
        "    (\"BACKGROUND\", (0, 0), (-1, 0), colors.grey),\n",
        "    (\"TEXTCOLOR\", (0, 0), (-1, 0), colors.whitesmoke),\n",
        "    (\"ALIGN\", (0, 0), (-1, -1), \"LEFT\"),\n",
        "    (\"FONTNAME\", (0, 0), (-1, 0), \"Helvetica-Bold\"),\n",
        "    (\"FONTSIZE\", (0, 0), (-1, -1), 7),\n",
        "    (\"BOTTOMPADDING\", (0, 0), (-1, 0), 6),\n",
        "    (\"GRID\", (0, 0), (-1, -1), 0.25, colors.black),\n",
        "]))\n",
        "\n",
        "for i in range(1, len(data)):\n",
        "    if int(data[i][3]) >= 3:\n",
        "        table.setStyle([(\"BACKGROUND\", (0, i), (-1, i), colors.lightpink)])\n",
        "\n",
        "elements.append(table)\n",
        "doc.build(elements)\n",
        "\n",
        "print(\"✅ PDF report saved as feedback_report.pdf\")\n"
      ],
      "metadata": {
        "id": "MpPjensY0buG"
      },
      "execution_count": null,
      "outputs": []
    },
    {
      "cell_type": "markdown",
      "source": [
        "# User Input"
      ],
      "metadata": {
        "id": "lgs1cUWITNoV"
      }
    },
    {
      "cell_type": "code",
      "metadata": {
        "colab": {
          "base_uri": "https://localhost:8080/"
        },
        "id": "90abb5e0",
        "outputId": "5f33a534-e6da-4ec2-8249-ea931c112d1e"
      },
      "source": [
        "!pip install reportlab"
      ],
      "execution_count": 21,
      "outputs": [
        {
          "output_type": "stream",
          "name": "stdout",
          "text": [
            "Collecting reportlab\n",
            "  Downloading reportlab-4.4.2-py3-none-any.whl.metadata (1.8 kB)\n",
            "Requirement already satisfied: pillow>=9.0.0 in /usr/local/lib/python3.11/dist-packages (from reportlab) (11.2.1)\n",
            "Requirement already satisfied: charset-normalizer in /usr/local/lib/python3.11/dist-packages (from reportlab) (3.4.2)\n",
            "Downloading reportlab-4.4.2-py3-none-any.whl (2.0 MB)\n",
            "\u001b[?25l   \u001b[90m━━━━━━━━━━━━━━━━━━━━━━━━━━━━━━━━━━━━━━━━\u001b[0m \u001b[32m0.0/2.0 MB\u001b[0m \u001b[31m?\u001b[0m eta \u001b[36m-:--:--\u001b[0m\r\u001b[2K   \u001b[91m━━━━━━━━━━━━━━\u001b[0m\u001b[91m╸\u001b[0m\u001b[90m━━━━━━━━━━━━━━━━━━━━━━━━━\u001b[0m \u001b[32m0.7/2.0 MB\u001b[0m \u001b[31m22.1 MB/s\u001b[0m eta \u001b[36m0:00:01\u001b[0m\r\u001b[2K   \u001b[90m━━━━━━━━━━━━━━━━━━━━━━━━━━━━━━━━━━━━━━━━\u001b[0m \u001b[32m2.0/2.0 MB\u001b[0m \u001b[31m32.0 MB/s\u001b[0m eta \u001b[36m0:00:00\u001b[0m\n",
            "\u001b[?25hInstalling collected packages: reportlab\n",
            "Successfully installed reportlab-4.4.2\n"
          ]
        }
      ]
    },
    {
      "cell_type": "code",
      "metadata": {
        "id": "a384f369"
      },
      "source": [
        "\n",
        "from reportlab.platypus import SimpleDocTemplate, Table, TableStyle, Paragraph, Spacer\n",
        "from reportlab.lib import colors\n",
        "from reportlab.lib.pagesizes import A4\n",
        "from reportlab.lib.styles import getSampleStyleSheet\n",
        "from reportlab.lib.enums import TA_LEFT, TA_CENTER\n",
        "import pandas as pd\n",
        "from tqdm import tqdm\n",
        "import re\n",
        "import spacy\n",
        "from gender_guesser.detector import Detector\n",
        "import os\n",
        "import pymupdf\n",
        "\n",
        "try:\n",
        "    nlp = spacy.load(\"en_core_web_sm\")\n",
        "except:\n",
        "    print(\"Loading en_core_web_sm model for spaCy...\")\n",
        "    spacy.cli.download(\"en_core_web_sm\")\n",
        "    nlp = spacy.load(\"en_core_web_sm\")\n",
        "\n",
        "try:\n",
        "    gender_detector = Detector()\n",
        "except:\n",
        "    print(\"Initializing gender_guesser Detector...\")\n",
        "    gender_detector = Detector()\n",
        "\n",
        "\n",
        "\n",
        "def generate_pdf_report_from_dataframe(df_data, output_path, bias_score=None, stereotype_distribution=None):\n",
        "    \"\"\"\n",
        "    Generates a PDF report from a pandas DataFrame containing analysis results,\n",
        "    including overall bias score and stereotype distribution.\n",
        "\n",
        "    Args:\n",
        "        df_data (pd.DataFrame): DataFrame with analysis results (line, stereotype, severity, rewrite, rank).\n",
        "        output_path (str): The path to save the PDF report.\n",
        "        bias_score (float, optional): The calculated overall bias score. Defaults to None.\n",
        "        stereotype_distribution (pd.Series, optional): Value counts of stereotype types. Defaults to None.\n",
        "    \"\"\"\n",
        "    doc = SimpleDocTemplate(output_path, pagesize=A4)\n",
        "    styles = getSampleStyleSheet()\n",
        "    elements = []\n",
        "\n",
        "    elements.append(Paragraph(\"🎬 Bollywood Bias Buster – Script Feedback Report\", styles[\"Title\"]))\n",
        "    elements.append(Spacer(1, 18))\n",
        "\n",
        "    intro_text = \"\"\"\n",
        "    This report provides an analysis of potential gender stereotypes detected in the provided movie script lines.\n",
        "    The analysis identifies specific lines that may reinforce common stereotypes and suggests rewritten alternatives.\n",
        "    A bias score is calculated based on the severity of detected stereotypes.\n",
        "    \"\"\"\n",
        "    elements.append(Paragraph(intro_text, styles[\"Normal\"]))\n",
        "    elements.append(Spacer(1, 12))\n",
        "\n",
        "    if bias_score is not None:\n",
        "        elements.append(Paragraph(f\"<b>Overall Script Bias Score:</b> <font color='red'>{bias_score:.2f}</font>\", styles[\"h2\"])) # Use h2 style for prominence\n",
        "        elements.append(Spacer(1, 12))\n",
        "\n",
        "    if stereotype_distribution is not None and not stereotype_distribution.empty:\n",
        "        elements.append(Paragraph(\"<b>Stereotype Distribution:</b>\", styles[\"h3\"])) # Use h3 style\n",
        "        elements.append(Spacer(1, 6))\n",
        "\n",
        "        distribution_data = [[\"Stereotype Type\", \"Count\", \"Percentage\"]]\n",
        "        total_stereotypes = stereotype_distribution.sum()\n",
        "        for stereotype, count in stereotype_distribution.items():\n",
        "            percentage = (count / total_stereotypes) * 100 if total_stereotypes > 0 else 0\n",
        "            distribution_data.append([stereotype.replace('_', ' ').title(), count, f\"{percentage:.1f}%\"]) # Improve label formatting\n",
        "\n",
        "        distribution_table = Table(distribution_data, colWidths=[200, 50, 70]) # Added column for percentage\n",
        "        distribution_table.setStyle(TableStyle([\n",
        "            (\"BACKGROUND\", (0, 0), (-1, 0), colors.grey),\n",
        "            (\"TEXTCOLOR\", (0, 0), (-1, 0), colors.whitesmoke),\n",
        "            (\"ALIGN\", (0, 0), (-1, -1), \"LEFT\"),\n",
        "             (\"ALIGN\", (-2, 0), (-1, -1), \"CENTER\"), # Center align count and percentage\n",
        "            (\"FONTNAME\", (0, 0), (-1, 0), \"Helvetica-Bold\"),\n",
        "            (\"FONTSIZE\", (0, 0), (-1, -1), 8),\n",
        "            (\"BOTTOMPADDING\", (0, 0), (-1, 0), 6),\n",
        "            (\"GRID\", (0, 0), (-1, -1), 0.25, colors.black),\n",
        "        ]))\n",
        "        elements.append(distribution_table)\n",
        "        elements.append(Spacer(1, 18)) # Increased space\n",
        "\n",
        "\n",
        "    if df_data.empty:\n",
        "        elements.append(Paragraph(\"No gender stereotypes or characters with detected gender found in the script lines for detailed reporting.\", styles[\"Normal\"]))\n",
        "        print(\"ℹ️ No biased lines or relevant characters found for detailed report.\")\n",
        "    else:\n",
        "        elements.append(Paragraph(\"<b>Detected Stereotypes Details:</b>\", styles[\"h3\"])) # Use h3 style\n",
        "        elements.append(Spacer(1, 6))\n",
        "\n",
        "        for idx, row in df_data.sort_values([\"rank\", \"severity_score\"], ascending=[True, False]).iterrows():\n",
        "            # Add original line\n",
        "            elements.append(Paragraph(f\"<b>Original Line ({row['rank']}):</b> {row['line']}\", styles[\"Normal\"]))\n",
        "            elements.append(Spacer(1, 3))\n",
        "\n",
        "            # Add stereotype and severity\n",
        "            elements.append(Paragraph(f\"<b>Stereotype:</b> {row['stereotype_type'].replace('_', ' ').title()} (Severity: {int(row['severity_score'])})\", styles[\"Normal\"]))\n",
        "            elements.append(Spacer(1, 3))\n",
        "\n",
        "            # Add rewritten line\n",
        "            elements.append(Paragraph(f\"<b>Rewritten Line:</b> {row['rewritten_line']}\", styles[\"Normal\"]))\n",
        "            elements.append(Spacer(1, 12)) # Add space between entries\n",
        "\n",
        "\n",
        "    try:\n",
        "        doc.build(elements)\n",
        "        print(f\"✅ PDF report saved as {output_path}\")\n",
        "        return output_path\n",
        "    except Exception as e:\n",
        "        print(f\"Error building PDF: {e}\")\n",
        "        return None\n",
        "\n",
        "\n",
        "def analyze_script_and_generate_report(script_text, script_title=\"Single Script Analysis\"):\n",
        "    \"\"\"\n",
        "    Analyzes a single script for stereotypes, calculates bias score and distribution,\n",
        "    and generates a PDF report.\n",
        "\n",
        "    Args:\n",
        "        script_text (str): The content of the movie script.\n",
        "        script_title (str): The title of the script (for reporting).\n",
        "\n",
        "    Returns:\n",
        "        str: The path to the generated PDF report file, or None if report generation failed.\n",
        "    \"\"\"\n",
        "    print(f\"Analyzing script: {script_title}\")\n",
        "    lines = extract_intro_lines(script_text)\n",
        "    print(f\"Extracted {len(lines)} potential lines for analysis.\")\n",
        "    analysis_results = []\n",
        "\n",
        "    if 'model' not in globals() or 'tokenizer' not in globals() or model is None or tokenizer is None:\n",
        "         print(\"Error: Mistral model or tokenizer not loaded. Cannot perform stereotype classification.\")\n",
        "         # Generate a report indicating model not loaded\n",
        "         output_pdf_path = f\"{script_title.replace(' ', '_').replace('/', '_')}_feedback_report.pdf\"\n",
        "         generated_pdf_path = generate_pdf_report_from_dataframe(pd.DataFrame(), output_pdf_path, bias_score=0, stereotype_distribution=pd.Series())\n",
        "         return generated_pdf_path\n",
        "\n",
        "\n",
        "    print(\"Starting stereotype classification...\")\n",
        "    for line in tqdm(lines, desc=\"Classifying stereotypes\"):\n",
        "        character, gender = detect_character_and_gender(line)\n",
        "        if character and gender in ['male', 'female']:\n",
        "             stereotype_type = classify_stereotype_with_mistral_v5_silent(line)\n",
        "             # print(f\"  -> Stereotype: {stereotype_type}\") # Debug print\n",
        "             analysis_results.append({\n",
        "                 \"script\": script_title,\n",
        "                 \"character\": character,\n",
        "                 \"gender\": gender,\n",
        "                 \"line\": line.strip(),\n",
        "                 \"stereotype_type\": stereotype_type\n",
        "             })\n",
        "\n",
        "    print(f\"Finished classification. Found {len(analysis_results)} lines with detected characters.\")\n",
        "    df_analysis = pd.DataFrame(analysis_results)\n",
        "    print(f\"DataFrame shape after character detection: {df_analysis.shape}\")\n",
        "\n",
        "    # Calculate Stereotype Distribution (before filtering 'none')\n",
        "    stereotype_distribution = df_analysis['stereotype_type'].value_counts() if not df_analysis.empty and 'stereotype_type' in df_analysis.columns else pd.Series()\n",
        "    print(\"Stereotype distribution calculated.\")\n",
        "    print(stereotype_distribution)\n",
        "\n",
        "\n",
        "    # Filter out 'none' stereotypes for the detailed report table\n",
        "    df_report_data = df_analysis[df_analysis['stereotype_type'] != 'none'].copy() if not df_analysis.empty and 'stereotype_type' in df_analysis.columns else pd.DataFrame()\n",
        "    print(f\"DataFrame shape after filtering 'none' stereotypes: {df_report_data.shape}\")\n",
        "\n",
        "\n",
        "    # Calculate Overall Bias Score\n",
        "    # Use severity map on the full analysis DataFrame to include 'none' with severity 1 (or 0 if preferred)\n",
        "    severity_map = {\n",
        "        \"appearance_focus\": 2, \"relationship_only\": 2, \"agency_gap\": 3,\n",
        "        \"occupation_gap\": 3, \"emotional_typecast\": 2, \"domesticity_emphasis\": 2,\n",
        "        \"objectification\": 3, \"victim_only\": 3, \"intelligence_undermined\": 2,\n",
        "        \"support_role_only\": 2, \"villainization\": 3, \"none\": 1 # Assign a base score for 'none'\n",
        "    }\n",
        "    # Apply severity map to the full df_analysis to get a score for every analyzed line\n",
        "    if not df_analysis.empty and 'stereotype_type' in df_analysis.columns:\n",
        "        df_analysis[\"severity_score\"] = df_analysis[\"stereotype_type\"].map(severity_map).fillna(1) # Fillna for any unexpected labels\n",
        "        # Calculate average severity score as a simple bias score\n",
        "        overall_bias_score = df_analysis[\"severity_score\"].mean()\n",
        "    else:\n",
        "        overall_bias_score = 0 # Default to 0 if no lines were analyzed\n",
        "\n",
        "    print(f\"Overall bias score calculated: {overall_bias_score:.2f}\")\n",
        "\n",
        "\n",
        "    # Add severity score and rank to the filtered report data\n",
        "    if not df_report_data.empty:\n",
        "        df_report_data[\"severity_score\"] = df_report_data[\"stereotype_type\"].map(severity_map).fillna(1)\n",
        "        print(\"Severity scores added to report data.\")\n",
        "\n",
        "        tqdm.pandas(desc=\"Rewriting biased lines\")\n",
        "        df_report_data[\"rewritten_line\"] = df_report_data.progress_apply(\n",
        "            lambda row: rewrite_biased_line_with_mistral_v2(row[\"line\"], row[\"stereotype_type\"]),\n",
        "            axis=1\n",
        "        )\n",
        "        print(\"Rewritten lines added to report data.\")\n",
        "\n",
        "        df_report_data[\"rank\"] = df_report_data[\"severity_score\"].rank(method=\"dense\", ascending=False).astype(int)\n",
        "        print(\"Rank added to report data.\")\n",
        "    else:\n",
        "        print(\"No biased lines in report data to add severity, rewrite, or rank.\")\n",
        "        # Ensure columns exist even if empty for consistent PDF generation\n",
        "        df_report_data = pd.DataFrame(columns=[\"script\", \"character\", \"gender\", \"line\", \"stereotype_type\", \"severity_score\", \"rewritten_line\", \"rank\"])\n",
        "\n",
        "\n",
        "    # Generate the PDF report\n",
        "    output_pdf_path = f\"{script_title.replace(' ', '_').replace('/', '_')}_feedback_report.pdf\"\n",
        "    print(f\"Generating PDF report: {output_pdf_path}\")\n",
        "    generated_pdf_path = generate_pdf_report_from_dataframe(df_report_data, output_pdf_path, overall_bias_score, stereotype_distribution)\n",
        "\n",
        "\n",
        "    return generated_pdf_path"
      ],
      "execution_count": 47,
      "outputs": []
    },
    {
      "cell_type": "code",
      "metadata": {
        "id": "311718da"
      },
      "source": [
        "import pandas as pd\n",
        "from tqdm import tqdm\n",
        "\n",
        "def rewrite_biased_line_with_mistral_v2(line, stereotype_type):\n",
        "    prompt = f\"\"\"\n",
        "You are a helpful assistant trained to rewrite movie script lines that reinforce gender stereotypes.\n",
        "\n",
        "Stereotype detected: {stereotype_type}\n",
        "\n",
        "Avoid rephrasing the same stereotype. Instead, remove the biased framing and rewrite the line by giving the character agency, ambition, or equality, while preserving narrative meaning.\n",
        "\n",
        "Line: \"{line}\"\n",
        "Rewritten line:\"\"\"\n",
        "\n",
        "    # Ensure model and tokenizer are accessible globally\n",
        "    if 'model' not in globals() or 'tokenizer' not in globals() or model is None or tokenizer is None:\n",
        "         print(\"Error: Mistral model or tokenizer not loaded. Cannot perform line rewriting.\")\n",
        "         return line # Return original line if model is not loaded\n",
        "\n",
        "\n",
        "    inputs = tokenizer(prompt.strip(), return_tensors=\"pt\").to(model.device)\n",
        "    outputs = model.generate(**inputs, max_new_tokens=40, pad_token_id=tokenizer.eos_token_id)\n",
        "    decoded = tokenizer.decode(outputs[0], skip_special_tokens=True).strip()\n",
        "\n",
        "    # Extract only the rewritten line\n",
        "    rewritten_line = decoded.split(\"Rewritten line:\")[-1].strip().strip('\"')\n",
        "    return rewritten_line\n",
        "\n"
      ],
      "execution_count": 35,
      "outputs": []
    },
    {
      "cell_type": "code",
      "metadata": {
        "colab": {
          "base_uri": "https://localhost:8080/",
          "height": 1000
        },
        "id": "823678cc",
        "outputId": "57f28864-6390-406a-eee8-fabd5e29d20a"
      },
      "source": [
        "import gradio as gr\n",
        "import os # Import os for file path handling\n",
        "\n",
        "# Assuming analyze_script_and_generate_report function is defined in a previous cell and works correctly\n",
        "\n",
        "def interface_analyze_script(script_text, script_title=\"User_Script\"):\n",
        "    \"\"\"\n",
        "    Wrapper function for the Gradio interface to analyze a script and generate a PDF.\n",
        "    \"\"\"\n",
        "    if not script_text:\n",
        "        return None # Return None if no script text is provided\n",
        "\n",
        "    # Clean the script title for use in filenames\n",
        "    cleaned_script_title = script_title.replace(' ', '_').replace('/', '_')\n",
        "    if not cleaned_script_title: # Handle cases where cleaning results in an empty string\n",
        "        cleaned_script_title = \"User_Script\"\n",
        "\n",
        "    # Generate the PDF report using the existing function\n",
        "    pdf_report_path = analyze_script_and_generate_report(script_text, cleaned_script_title)\n",
        "\n",
        "    if pdf_report_path and os.path.exists(pdf_report_path):\n",
        "        return pdf_report_path\n",
        "    else:\n",
        "        print(f\"Error: PDF report not found at {pdf_report_path}\")\n",
        "        return None\n",
        "\n",
        "# Create the Gradio interface\n",
        "with gr.Blocks() as demo:\n",
        "    gr.Markdown(\n",
        "        \"\"\"\n",
        "        # 🎬 Bollywood Bias Buster - Script Analysis Interface\n",
        "        Paste your movie script below and get a PDF report analyzing potential gender stereotypes.\n",
        "        \"\"\"\n",
        "    )\n",
        "    script_input = gr.Textbox(label=\"Paste Movie Script Here\", lines=20, placeholder=\"Enter script text...\")\n",
        "    script_title_input = gr.Textbox(label=\"Script Title (Optional)\", placeholder=\"Enter title...\")\n",
        "    output_pdf = gr.File(label=\"Bias Report PDF\")\n",
        "    analyze_button = gr.Button(\"Analyze Script and Generate Report\")\n",
        "\n",
        "    analyze_button.click(\n",
        "        interface_analyze_script,\n",
        "        inputs=[script_input, script_title_input],\n",
        "        outputs=output_pdf\n",
        "    )\n",
        "\n",
        "# Launch the interface\n",
        "if __name__ == \"__main__\":\n",
        "    demo.launch(debug=True)"
      ],
      "execution_count": null,
      "outputs": [
        {
          "output_type": "stream",
          "name": "stdout",
          "text": [
            "It looks like you are running Gradio on a hosted a Jupyter notebook. For the Gradio app to work, sharing must be enabled. Automatically setting `share=True` (you can turn this off by setting `share=False` in `launch()` explicitly).\n",
            "\n",
            "Colab notebook detected. This cell will run indefinitely so that you can see errors and logs. To turn off, set debug=False in launch().\n",
            "* Running on public URL: https://0909f7c28a4dfe050e.gradio.live\n",
            "\n",
            "This share link expires in 1 week. For free permanent hosting and GPU upgrades, run `gradio deploy` from the terminal in the working directory to deploy to Hugging Face Spaces (https://huggingface.co/spaces)\n"
          ]
        },
        {
          "output_type": "display_data",
          "data": {
            "text/plain": [
              "<IPython.core.display.HTML object>"
            ],
            "text/html": [
              "<div><iframe src=\"https://0909f7c28a4dfe050e.gradio.live\" width=\"100%\" height=\"500\" allow=\"autoplay; camera; microphone; clipboard-read; clipboard-write;\" frameborder=\"0\" allowfullscreen></iframe></div>"
            ]
          },
          "metadata": {}
        },
        {
          "output_type": "stream",
          "name": "stdout",
          "text": [
            "Analyzing script: Animal\n",
            "Warning: Few lines extracted using script format. Falling back to sentence splitting.\n",
            "Extracted 35 lines for analysis.\n",
            "Extracted 35 potential lines for analysis.\n",
            "Starting stereotype classification...\n"
          ]
        },
        {
          "output_type": "stream",
          "name": "stderr",
          "text": [
            "Classifying stereotypes: 100%|██████████| 35/35 [00:41<00:00,  1.18s/it]\n"
          ]
        },
        {
          "output_type": "stream",
          "name": "stdout",
          "text": [
            "Finished classification. Found 18 lines with detected characters.\n",
            "DataFrame shape after character detection: (18, 5)\n",
            "Stereotype distribution calculated.\n",
            "stereotype_type\n",
            "occupation_gap    13\n",
            "agency_gap         3\n",
            "villainization     1\n",
            "none               1\n",
            "Name: count, dtype: int64\n",
            "DataFrame shape after filtering 'none' stereotypes: (17, 5)\n",
            "Overall bias score calculated: 2.89\n",
            "Severity scores added to report data.\n"
          ]
        },
        {
          "output_type": "stream",
          "name": "stderr",
          "text": [
            "Rewriting biased lines: 100%|██████████| 17/17 [04:04<00:00, 14.36s/it]\n"
          ]
        },
        {
          "output_type": "stream",
          "name": "stdout",
          "text": [
            "Rewritten lines added to report data.\n",
            "Rank added to report data.\n",
            "Generating PDF report: Animal_feedback_report.pdf\n",
            "✅ PDF report saved as Animal_feedback_report.pdf\n"
          ]
        }
      ]
    },
    {
      "cell_type": "code",
      "source": [],
      "metadata": {
        "id": "-9Yx-oeWjA_a"
      },
      "execution_count": null,
      "outputs": []
    }
  ],
  "metadata": {
    "colab": {
      "provenance": [],
      "gpuType": "T4"
    },
    "kernelspec": {
      "display_name": "Python 3",
      "name": "python3"
    },
    "language_info": {
      "name": "python"
    },
    "widgets": {
      "application/vnd.jupyter.widget-state+json": {
        "151caa64e5684ee397ce275f450c2e3f": {
          "model_module": "@jupyter-widgets/controls",
          "model_name": "HBoxModel",
          "model_module_version": "1.5.0",
          "state": {
            "_dom_classes": [],
            "_model_module": "@jupyter-widgets/controls",
            "_model_module_version": "1.5.0",
            "_model_name": "HBoxModel",
            "_view_count": null,
            "_view_module": "@jupyter-widgets/controls",
            "_view_module_version": "1.5.0",
            "_view_name": "HBoxView",
            "box_style": "",
            "children": [
              "IPY_MODEL_b9f7b8b200fc4877a91cc97c6d54bbdf",
              "IPY_MODEL_c1d1ab3c77c94b1994f139538a5e7929",
              "IPY_MODEL_585d6f77623e478f8ec6321e1060b651"
            ],
            "layout": "IPY_MODEL_7c38a3bf139541bdb89d170cd940e721"
          }
        },
        "b9f7b8b200fc4877a91cc97c6d54bbdf": {
          "model_module": "@jupyter-widgets/controls",
          "model_name": "HTMLModel",
          "model_module_version": "1.5.0",
          "state": {
            "_dom_classes": [],
            "_model_module": "@jupyter-widgets/controls",
            "_model_module_version": "1.5.0",
            "_model_name": "HTMLModel",
            "_view_count": null,
            "_view_module": "@jupyter-widgets/controls",
            "_view_module_version": "1.5.0",
            "_view_name": "HTMLView",
            "description": "",
            "description_tooltip": null,
            "layout": "IPY_MODEL_1613b48789af441c9c22733d8ec877f4",
            "placeholder": "​",
            "style": "IPY_MODEL_9c65fb01a2564f6998b8cad67b9e049a",
            "value": "Loading checkpoint shards: 100%"
          }
        },
        "c1d1ab3c77c94b1994f139538a5e7929": {
          "model_module": "@jupyter-widgets/controls",
          "model_name": "FloatProgressModel",
          "model_module_version": "1.5.0",
          "state": {
            "_dom_classes": [],
            "_model_module": "@jupyter-widgets/controls",
            "_model_module_version": "1.5.0",
            "_model_name": "FloatProgressModel",
            "_view_count": null,
            "_view_module": "@jupyter-widgets/controls",
            "_view_module_version": "1.5.0",
            "_view_name": "ProgressView",
            "bar_style": "success",
            "description": "",
            "description_tooltip": null,
            "layout": "IPY_MODEL_18557873566144a2a33c4a5371bb1cef",
            "max": 2,
            "min": 0,
            "orientation": "horizontal",
            "style": "IPY_MODEL_4e1c2c1795fa4434a8c34b51a139b500",
            "value": 2
          }
        },
        "585d6f77623e478f8ec6321e1060b651": {
          "model_module": "@jupyter-widgets/controls",
          "model_name": "HTMLModel",
          "model_module_version": "1.5.0",
          "state": {
            "_dom_classes": [],
            "_model_module": "@jupyter-widgets/controls",
            "_model_module_version": "1.5.0",
            "_model_name": "HTMLModel",
            "_view_count": null,
            "_view_module": "@jupyter-widgets/controls",
            "_view_module_version": "1.5.0",
            "_view_name": "HTMLView",
            "description": "",
            "description_tooltip": null,
            "layout": "IPY_MODEL_adae615eb6b54d9aaa91e0c7591830eb",
            "placeholder": "​",
            "style": "IPY_MODEL_27c2931b1c3048e7bc5e31165c8639a4",
            "value": " 2/2 [00:57&lt;00:00, 57.48s/it]"
          }
        },
        "7c38a3bf139541bdb89d170cd940e721": {
          "model_module": "@jupyter-widgets/base",
          "model_name": "LayoutModel",
          "model_module_version": "1.2.0",
          "state": {
            "_model_module": "@jupyter-widgets/base",
            "_model_module_version": "1.2.0",
            "_model_name": "LayoutModel",
            "_view_count": null,
            "_view_module": "@jupyter-widgets/base",
            "_view_module_version": "1.2.0",
            "_view_name": "LayoutView",
            "align_content": null,
            "align_items": null,
            "align_self": null,
            "border": null,
            "bottom": null,
            "display": null,
            "flex": null,
            "flex_flow": null,
            "grid_area": null,
            "grid_auto_columns": null,
            "grid_auto_flow": null,
            "grid_auto_rows": null,
            "grid_column": null,
            "grid_gap": null,
            "grid_row": null,
            "grid_template_areas": null,
            "grid_template_columns": null,
            "grid_template_rows": null,
            "height": null,
            "justify_content": null,
            "justify_items": null,
            "left": null,
            "margin": null,
            "max_height": null,
            "max_width": null,
            "min_height": null,
            "min_width": null,
            "object_fit": null,
            "object_position": null,
            "order": null,
            "overflow": null,
            "overflow_x": null,
            "overflow_y": null,
            "padding": null,
            "right": null,
            "top": null,
            "visibility": null,
            "width": null
          }
        },
        "1613b48789af441c9c22733d8ec877f4": {
          "model_module": "@jupyter-widgets/base",
          "model_name": "LayoutModel",
          "model_module_version": "1.2.0",
          "state": {
            "_model_module": "@jupyter-widgets/base",
            "_model_module_version": "1.2.0",
            "_model_name": "LayoutModel",
            "_view_count": null,
            "_view_module": "@jupyter-widgets/base",
            "_view_module_version": "1.2.0",
            "_view_name": "LayoutView",
            "align_content": null,
            "align_items": null,
            "align_self": null,
            "border": null,
            "bottom": null,
            "display": null,
            "flex": null,
            "flex_flow": null,
            "grid_area": null,
            "grid_auto_columns": null,
            "grid_auto_flow": null,
            "grid_auto_rows": null,
            "grid_column": null,
            "grid_gap": null,
            "grid_row": null,
            "grid_template_areas": null,
            "grid_template_columns": null,
            "grid_template_rows": null,
            "height": null,
            "justify_content": null,
            "justify_items": null,
            "left": null,
            "margin": null,
            "max_height": null,
            "max_width": null,
            "min_height": null,
            "min_width": null,
            "object_fit": null,
            "object_position": null,
            "order": null,
            "overflow": null,
            "overflow_x": null,
            "overflow_y": null,
            "padding": null,
            "right": null,
            "top": null,
            "visibility": null,
            "width": null
          }
        },
        "9c65fb01a2564f6998b8cad67b9e049a": {
          "model_module": "@jupyter-widgets/controls",
          "model_name": "DescriptionStyleModel",
          "model_module_version": "1.5.0",
          "state": {
            "_model_module": "@jupyter-widgets/controls",
            "_model_module_version": "1.5.0",
            "_model_name": "DescriptionStyleModel",
            "_view_count": null,
            "_view_module": "@jupyter-widgets/base",
            "_view_module_version": "1.2.0",
            "_view_name": "StyleView",
            "description_width": ""
          }
        },
        "18557873566144a2a33c4a5371bb1cef": {
          "model_module": "@jupyter-widgets/base",
          "model_name": "LayoutModel",
          "model_module_version": "1.2.0",
          "state": {
            "_model_module": "@jupyter-widgets/base",
            "_model_module_version": "1.2.0",
            "_model_name": "LayoutModel",
            "_view_count": null,
            "_view_module": "@jupyter-widgets/base",
            "_view_module_version": "1.2.0",
            "_view_name": "LayoutView",
            "align_content": null,
            "align_items": null,
            "align_self": null,
            "border": null,
            "bottom": null,
            "display": null,
            "flex": null,
            "flex_flow": null,
            "grid_area": null,
            "grid_auto_columns": null,
            "grid_auto_flow": null,
            "grid_auto_rows": null,
            "grid_column": null,
            "grid_gap": null,
            "grid_row": null,
            "grid_template_areas": null,
            "grid_template_columns": null,
            "grid_template_rows": null,
            "height": null,
            "justify_content": null,
            "justify_items": null,
            "left": null,
            "margin": null,
            "max_height": null,
            "max_width": null,
            "min_height": null,
            "min_width": null,
            "object_fit": null,
            "object_position": null,
            "order": null,
            "overflow": null,
            "overflow_x": null,
            "overflow_y": null,
            "padding": null,
            "right": null,
            "top": null,
            "visibility": null,
            "width": null
          }
        },
        "4e1c2c1795fa4434a8c34b51a139b500": {
          "model_module": "@jupyter-widgets/controls",
          "model_name": "ProgressStyleModel",
          "model_module_version": "1.5.0",
          "state": {
            "_model_module": "@jupyter-widgets/controls",
            "_model_module_version": "1.5.0",
            "_model_name": "ProgressStyleModel",
            "_view_count": null,
            "_view_module": "@jupyter-widgets/base",
            "_view_module_version": "1.2.0",
            "_view_name": "StyleView",
            "bar_color": null,
            "description_width": ""
          }
        },
        "adae615eb6b54d9aaa91e0c7591830eb": {
          "model_module": "@jupyter-widgets/base",
          "model_name": "LayoutModel",
          "model_module_version": "1.2.0",
          "state": {
            "_model_module": "@jupyter-widgets/base",
            "_model_module_version": "1.2.0",
            "_model_name": "LayoutModel",
            "_view_count": null,
            "_view_module": "@jupyter-widgets/base",
            "_view_module_version": "1.2.0",
            "_view_name": "LayoutView",
            "align_content": null,
            "align_items": null,
            "align_self": null,
            "border": null,
            "bottom": null,
            "display": null,
            "flex": null,
            "flex_flow": null,
            "grid_area": null,
            "grid_auto_columns": null,
            "grid_auto_flow": null,
            "grid_auto_rows": null,
            "grid_column": null,
            "grid_gap": null,
            "grid_row": null,
            "grid_template_areas": null,
            "grid_template_columns": null,
            "grid_template_rows": null,
            "height": null,
            "justify_content": null,
            "justify_items": null,
            "left": null,
            "margin": null,
            "max_height": null,
            "max_width": null,
            "min_height": null,
            "min_width": null,
            "object_fit": null,
            "object_position": null,
            "order": null,
            "overflow": null,
            "overflow_x": null,
            "overflow_y": null,
            "padding": null,
            "right": null,
            "top": null,
            "visibility": null,
            "width": null
          }
        },
        "27c2931b1c3048e7bc5e31165c8639a4": {
          "model_module": "@jupyter-widgets/controls",
          "model_name": "DescriptionStyleModel",
          "model_module_version": "1.5.0",
          "state": {
            "_model_module": "@jupyter-widgets/controls",
            "_model_module_version": "1.5.0",
            "_model_name": "DescriptionStyleModel",
            "_view_count": null,
            "_view_module": "@jupyter-widgets/base",
            "_view_module_version": "1.2.0",
            "_view_name": "StyleView",
            "description_width": ""
          }
        },
        "a587d858996a4f949102dab35dfee7fb": {
          "model_module": "@jupyter-widgets/controls",
          "model_name": "HBoxModel",
          "model_module_version": "1.5.0",
          "state": {
            "_dom_classes": [],
            "_model_module": "@jupyter-widgets/controls",
            "_model_module_version": "1.5.0",
            "_model_name": "HBoxModel",
            "_view_count": null,
            "_view_module": "@jupyter-widgets/controls",
            "_view_module_version": "1.5.0",
            "_view_name": "HBoxView",
            "box_style": "",
            "children": [
              "IPY_MODEL_1a1ee6a0e78d4748b6f1ec9effc6d901",
              "IPY_MODEL_ae208aa61fa046a3921d04681660f234",
              "IPY_MODEL_298bb12d3d9d48b4a9dc5c013ea4d425"
            ],
            "layout": "IPY_MODEL_53b0a3b33c6645e6afbdfe9d36035b8b"
          }
        },
        "1a1ee6a0e78d4748b6f1ec9effc6d901": {
          "model_module": "@jupyter-widgets/controls",
          "model_name": "HTMLModel",
          "model_module_version": "1.5.0",
          "state": {
            "_dom_classes": [],
            "_model_module": "@jupyter-widgets/controls",
            "_model_module_version": "1.5.0",
            "_model_name": "HTMLModel",
            "_view_count": null,
            "_view_module": "@jupyter-widgets/controls",
            "_view_module_version": "1.5.0",
            "_view_name": "HTMLView",
            "description": "",
            "description_tooltip": null,
            "layout": "IPY_MODEL_6b0c6125017a4e82afaa50f0a301eac1",
            "placeholder": "​",
            "style": "IPY_MODEL_fe090be0b4a44bc59ac77c9c04bbfc0a",
            "value": "Loading checkpoint shards: 100%"
          }
        },
        "ae208aa61fa046a3921d04681660f234": {
          "model_module": "@jupyter-widgets/controls",
          "model_name": "FloatProgressModel",
          "model_module_version": "1.5.0",
          "state": {
            "_dom_classes": [],
            "_model_module": "@jupyter-widgets/controls",
            "_model_module_version": "1.5.0",
            "_model_name": "FloatProgressModel",
            "_view_count": null,
            "_view_module": "@jupyter-widgets/controls",
            "_view_module_version": "1.5.0",
            "_view_name": "ProgressView",
            "bar_style": "success",
            "description": "",
            "description_tooltip": null,
            "layout": "IPY_MODEL_599eddc69dd74bd8a65ace2b78db54fb",
            "max": 2,
            "min": 0,
            "orientation": "horizontal",
            "style": "IPY_MODEL_71bfe5b526194cdbbeb963db0bc14248",
            "value": 2
          }
        },
        "298bb12d3d9d48b4a9dc5c013ea4d425": {
          "model_module": "@jupyter-widgets/controls",
          "model_name": "HTMLModel",
          "model_module_version": "1.5.0",
          "state": {
            "_dom_classes": [],
            "_model_module": "@jupyter-widgets/controls",
            "_model_module_version": "1.5.0",
            "_model_name": "HTMLModel",
            "_view_count": null,
            "_view_module": "@jupyter-widgets/controls",
            "_view_module_version": "1.5.0",
            "_view_name": "HTMLView",
            "description": "",
            "description_tooltip": null,
            "layout": "IPY_MODEL_5aee06e7600b46b8a995e24d62439e7b",
            "placeholder": "​",
            "style": "IPY_MODEL_cb46c2f0cf6a41e49e52130781aa430c",
            "value": " 2/2 [01:00&lt;00:00, 28.14s/it]"
          }
        },
        "53b0a3b33c6645e6afbdfe9d36035b8b": {
          "model_module": "@jupyter-widgets/base",
          "model_name": "LayoutModel",
          "model_module_version": "1.2.0",
          "state": {
            "_model_module": "@jupyter-widgets/base",
            "_model_module_version": "1.2.0",
            "_model_name": "LayoutModel",
            "_view_count": null,
            "_view_module": "@jupyter-widgets/base",
            "_view_module_version": "1.2.0",
            "_view_name": "LayoutView",
            "align_content": null,
            "align_items": null,
            "align_self": null,
            "border": null,
            "bottom": null,
            "display": null,
            "flex": null,
            "flex_flow": null,
            "grid_area": null,
            "grid_auto_columns": null,
            "grid_auto_flow": null,
            "grid_auto_rows": null,
            "grid_column": null,
            "grid_gap": null,
            "grid_row": null,
            "grid_template_areas": null,
            "grid_template_columns": null,
            "grid_template_rows": null,
            "height": null,
            "justify_content": null,
            "justify_items": null,
            "left": null,
            "margin": null,
            "max_height": null,
            "max_width": null,
            "min_height": null,
            "min_width": null,
            "object_fit": null,
            "object_position": null,
            "order": null,
            "overflow": null,
            "overflow_x": null,
            "overflow_y": null,
            "padding": null,
            "right": null,
            "top": null,
            "visibility": null,
            "width": null
          }
        },
        "6b0c6125017a4e82afaa50f0a301eac1": {
          "model_module": "@jupyter-widgets/base",
          "model_name": "LayoutModel",
          "model_module_version": "1.2.0",
          "state": {
            "_model_module": "@jupyter-widgets/base",
            "_model_module_version": "1.2.0",
            "_model_name": "LayoutModel",
            "_view_count": null,
            "_view_module": "@jupyter-widgets/base",
            "_view_module_version": "1.2.0",
            "_view_name": "LayoutView",
            "align_content": null,
            "align_items": null,
            "align_self": null,
            "border": null,
            "bottom": null,
            "display": null,
            "flex": null,
            "flex_flow": null,
            "grid_area": null,
            "grid_auto_columns": null,
            "grid_auto_flow": null,
            "grid_auto_rows": null,
            "grid_column": null,
            "grid_gap": null,
            "grid_row": null,
            "grid_template_areas": null,
            "grid_template_columns": null,
            "grid_template_rows": null,
            "height": null,
            "justify_content": null,
            "justify_items": null,
            "left": null,
            "margin": null,
            "max_height": null,
            "max_width": null,
            "min_height": null,
            "min_width": null,
            "object_fit": null,
            "object_position": null,
            "order": null,
            "overflow": null,
            "overflow_x": null,
            "overflow_y": null,
            "padding": null,
            "right": null,
            "top": null,
            "visibility": null,
            "width": null
          }
        },
        "fe090be0b4a44bc59ac77c9c04bbfc0a": {
          "model_module": "@jupyter-widgets/controls",
          "model_name": "DescriptionStyleModel",
          "model_module_version": "1.5.0",
          "state": {
            "_model_module": "@jupyter-widgets/controls",
            "_model_module_version": "1.5.0",
            "_model_name": "DescriptionStyleModel",
            "_view_count": null,
            "_view_module": "@jupyter-widgets/base",
            "_view_module_version": "1.2.0",
            "_view_name": "StyleView",
            "description_width": ""
          }
        },
        "599eddc69dd74bd8a65ace2b78db54fb": {
          "model_module": "@jupyter-widgets/base",
          "model_name": "LayoutModel",
          "model_module_version": "1.2.0",
          "state": {
            "_model_module": "@jupyter-widgets/base",
            "_model_module_version": "1.2.0",
            "_model_name": "LayoutModel",
            "_view_count": null,
            "_view_module": "@jupyter-widgets/base",
            "_view_module_version": "1.2.0",
            "_view_name": "LayoutView",
            "align_content": null,
            "align_items": null,
            "align_self": null,
            "border": null,
            "bottom": null,
            "display": null,
            "flex": null,
            "flex_flow": null,
            "grid_area": null,
            "grid_auto_columns": null,
            "grid_auto_flow": null,
            "grid_auto_rows": null,
            "grid_column": null,
            "grid_gap": null,
            "grid_row": null,
            "grid_template_areas": null,
            "grid_template_columns": null,
            "grid_template_rows": null,
            "height": null,
            "justify_content": null,
            "justify_items": null,
            "left": null,
            "margin": null,
            "max_height": null,
            "max_width": null,
            "min_height": null,
            "min_width": null,
            "object_fit": null,
            "object_position": null,
            "order": null,
            "overflow": null,
            "overflow_x": null,
            "overflow_y": null,
            "padding": null,
            "right": null,
            "top": null,
            "visibility": null,
            "width": null
          }
        },
        "71bfe5b526194cdbbeb963db0bc14248": {
          "model_module": "@jupyter-widgets/controls",
          "model_name": "ProgressStyleModel",
          "model_module_version": "1.5.0",
          "state": {
            "_model_module": "@jupyter-widgets/controls",
            "_model_module_version": "1.5.0",
            "_model_name": "ProgressStyleModel",
            "_view_count": null,
            "_view_module": "@jupyter-widgets/base",
            "_view_module_version": "1.2.0",
            "_view_name": "StyleView",
            "bar_color": null,
            "description_width": ""
          }
        },
        "5aee06e7600b46b8a995e24d62439e7b": {
          "model_module": "@jupyter-widgets/base",
          "model_name": "LayoutModel",
          "model_module_version": "1.2.0",
          "state": {
            "_model_module": "@jupyter-widgets/base",
            "_model_module_version": "1.2.0",
            "_model_name": "LayoutModel",
            "_view_count": null,
            "_view_module": "@jupyter-widgets/base",
            "_view_module_version": "1.2.0",
            "_view_name": "LayoutView",
            "align_content": null,
            "align_items": null,
            "align_self": null,
            "border": null,
            "bottom": null,
            "display": null,
            "flex": null,
            "flex_flow": null,
            "grid_area": null,
            "grid_auto_columns": null,
            "grid_auto_flow": null,
            "grid_auto_rows": null,
            "grid_column": null,
            "grid_gap": null,
            "grid_row": null,
            "grid_template_areas": null,
            "grid_template_columns": null,
            "grid_template_rows": null,
            "height": null,
            "justify_content": null,
            "justify_items": null,
            "left": null,
            "margin": null,
            "max_height": null,
            "max_width": null,
            "min_height": null,
            "min_width": null,
            "object_fit": null,
            "object_position": null,
            "order": null,
            "overflow": null,
            "overflow_x": null,
            "overflow_y": null,
            "padding": null,
            "right": null,
            "top": null,
            "visibility": null,
            "width": null
          }
        },
        "cb46c2f0cf6a41e49e52130781aa430c": {
          "model_module": "@jupyter-widgets/controls",
          "model_name": "DescriptionStyleModel",
          "model_module_version": "1.5.0",
          "state": {
            "_model_module": "@jupyter-widgets/controls",
            "_model_module_version": "1.5.0",
            "_model_name": "DescriptionStyleModel",
            "_view_count": null,
            "_view_module": "@jupyter-widgets/base",
            "_view_module_version": "1.2.0",
            "_view_name": "StyleView",
            "description_width": ""
          }
        }
      }
    },
    "accelerator": "GPU"
  },
  "nbformat": 4,
  "nbformat_minor": 0
}